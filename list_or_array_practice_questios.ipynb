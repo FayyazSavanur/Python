{
 "cells": [
  {
   "cell_type": "markdown",
   "id": "78b91226",
   "metadata": {},
   "source": [
    "## Maximum Element in a List.\n",
    "Given a list of integers, write a function to find the maximum element in the list."
   ]
  },
  {
   "cell_type": "code",
   "execution_count": 1,
   "id": "e7f1fe88",
   "metadata": {},
   "outputs": [
    {
     "data": {
      "text/plain": [
       "9"
      ]
     },
     "execution_count": 1,
     "metadata": {},
     "output_type": "execute_result"
    }
   ],
   "source": [
    "def find_max_element(lst):\n",
    "    largest=lst[0]\n",
    "    for i in lst:\n",
    "        if i>largest:\n",
    "            largest=i\n",
    "    return largest\n",
    "lst = [3, 5, 2, 9, 6]\n",
    "find_max_element(lst)"
   ]
  },
  {
   "cell_type": "code",
   "execution_count": 3,
   "id": "51e16c96",
   "metadata": {},
   "outputs": [
    {
     "data": {
      "text/plain": [
       "-1"
      ]
     },
     "execution_count": 3,
     "metadata": {},
     "output_type": "execute_result"
    }
   ],
   "source": [
    "lst = [-1, -2, -3, -4]\n",
    "find_max_element(lst)\n"
   ]
  },
  {
   "cell_type": "code",
   "execution_count": 5,
   "id": "7d7deb98",
   "metadata": {},
   "outputs": [
    {
     "data": {
      "text/plain": [
       "-1"
      ]
     },
     "execution_count": 5,
     "metadata": {},
     "output_type": "execute_result"
    }
   ],
   "source": [
    "def find_max_element(lst):\n",
    "    return max(lst)\n",
    "lst = [-1, -2, -3, -4]\n",
    "find_max_element(lst)"
   ]
  },
  {
   "cell_type": "markdown",
   "id": "bbab8698",
   "metadata": {},
   "source": [
    "## Sum of Elements in a List\n",
    "Given a list of integers, write a function to find the sum of all the elements in the list."
   ]
  },
  {
   "cell_type": "code",
   "execution_count": 6,
   "id": "f14b887e",
   "metadata": {},
   "outputs": [
    {
     "data": {
      "text/plain": [
       "-10"
      ]
     },
     "execution_count": 6,
     "metadata": {},
     "output_type": "execute_result"
    }
   ],
   "source": [
    "def sum_of_elements(lst):\n",
    "    sum=0\n",
    "    for i in lst:\n",
    "        sum=sum+i\n",
    "    return sum\n",
    "lst = [-1, -2, -3, -4]\n",
    "sum_of_elements(lst)"
   ]
  },
  {
   "cell_type": "markdown",
   "id": "ef47d7df",
   "metadata": {},
   "source": [
    "## Palindrome List\n",
    "Given a list of integers, determine if it is a palindrome. A list is considered a palindrome if it reads the same forward and backward."
   ]
  },
  {
   "cell_type": "code",
   "execution_count": 22,
   "id": "0ffd3f13",
   "metadata": {},
   "outputs": [],
   "source": [
    "def is_palindrome(lst):\n",
    "    l1=lst[::-1]\n",
    "    flag=True\n",
    "    i=0\n",
    "    if(len(lst)==len(l1)):\n",
    "        while i<len(lst):\n",
    "            if lst[i]==l1[i]:\n",
    "                flag=True\n",
    "            else:\n",
    "                flag=False\n",
    "                break\n",
    "            i+=1\n",
    "    else:\n",
    "        print(f\"list {lst} is not palindrome\")\n",
    "    if flag==True:\n",
    "        print(f\"list {lst} is plaindrome\")\n",
    "    else:\n",
    "        print(f\"list {lst} is not palindrome\")\n",
    "    "
   ]
  },
  {
   "cell_type": "code",
   "execution_count": 23,
   "id": "2243e62c",
   "metadata": {},
   "outputs": [
    {
     "name": "stdout",
     "output_type": "stream",
     "text": [
      "list [7, 8, 9, 8, 7] is plaindrome\n"
     ]
    }
   ],
   "source": [
    "lst = [7, 8, 9, 8, 7]\n",
    "is_palindrome(lst)"
   ]
  },
  {
   "cell_type": "code",
   "execution_count": 24,
   "id": "20040fba",
   "metadata": {},
   "outputs": [
    {
     "name": "stdout",
     "output_type": "stream",
     "text": [
      "list [1, 2, 3, 4, 5] is not palindrome\n"
     ]
    }
   ],
   "source": [
    "lst = [1, 2, 3, 4, 5]\n",
    "is_palindrome(lst)"
   ]
  },
  {
   "cell_type": "markdown",
   "id": "758bda6f",
   "metadata": {},
   "source": [
    "## Rotate List\n",
    "Given a list of integers and an integer D, write a function to rotate the list to the left by D positions."
   ]
  },
  {
   "cell_type": "code",
   "execution_count": 37,
   "id": "7d045c09",
   "metadata": {},
   "outputs": [],
   "source": [
    "def rotate_left(ARR, D):\n",
    "    a1=ARR[D:]\n",
    "    a2=ARR[0:D]\n",
    "    ARR=a1+a2\n",
    "    return ARR\n",
    "    "
   ]
  },
  {
   "cell_type": "code",
   "execution_count": 38,
   "id": "5b4d108b",
   "metadata": {},
   "outputs": [
    {
     "data": {
      "text/plain": [
       "[40, 50, 10, 20, 30]"
      ]
     },
     "execution_count": 38,
     "metadata": {},
     "output_type": "execute_result"
    }
   ],
   "source": [
    "ARR = [10, 20, 30, 40, 50]\n",
    "D = 3\n",
    "rotate_left(ARR, D)"
   ]
  },
  {
   "cell_type": "code",
   "execution_count": 39,
   "id": "88e3cea0",
   "metadata": {},
   "outputs": [
    {
     "data": {
      "text/plain": [
       "[8, 9, 10, 7]"
      ]
     },
     "execution_count": 39,
     "metadata": {},
     "output_type": "execute_result"
    }
   ],
   "source": [
    "ARR = [7, 8, 9, 10]\n",
    "D = 1\n",
    "rotate_left(ARR, D)"
   ]
  },
  {
   "cell_type": "markdown",
   "id": "38c93ca1",
   "metadata": {},
   "source": [
    "## Plus One in the Number\n",
    "You are given a large integer represented as an integer array digits, where each digits[i] is the i-th digit of the integer. The digits are ordered from most significant to least significant in left-to-right order. The large integer does not contain any leading zeroes.\n",
    "\n",
    "Write a function to increment the large integer by one and return the resulting array of digits.\n",
    "\n"
   ]
  },
  {
   "cell_type": "code",
   "execution_count": 53,
   "id": "9804087b",
   "metadata": {},
   "outputs": [],
   "source": [
    "def plus_one(digits):\n",
    "    digit = \"\".join(map(str, digits))\n",
    "    incremented=str(int(digit)+1) \n",
    "    digits=list(incremented)\n",
    "    return digits\n",
    "    "
   ]
  },
  {
   "cell_type": "code",
   "execution_count": 54,
   "id": "1b519c9c",
   "metadata": {},
   "outputs": [
    {
     "data": {
      "text/plain": [
       "['1', '2', '4']"
      ]
     },
     "execution_count": 54,
     "metadata": {},
     "output_type": "execute_result"
    }
   ],
   "source": [
    "digits = [1, 2, 3]\n",
    "plus_one(digits)"
   ]
  },
  {
   "cell_type": "code",
   "execution_count": 55,
   "id": "7225314f",
   "metadata": {},
   "outputs": [
    {
     "data": {
      "text/plain": [
       "['4', '3', '2', '2']"
      ]
     },
     "execution_count": 55,
     "metadata": {},
     "output_type": "execute_result"
    }
   ],
   "source": [
    "digits = [4, 3, 2, 1]\n",
    "plus_one(digits)"
   ]
  },
  {
   "cell_type": "code",
   "execution_count": 56,
   "id": "7c10e4e2",
   "metadata": {},
   "outputs": [
    {
     "data": {
      "text/plain": [
       "['1', '0', '0', '0']"
      ]
     },
     "execution_count": 56,
     "metadata": {},
     "output_type": "execute_result"
    }
   ],
   "source": [
    "digits = [9, 9, 9]\n",
    "plus_one(digits)"
   ]
  },
  {
   "cell_type": "code",
   "execution_count": 65,
   "id": "bb79cca9",
   "metadata": {},
   "outputs": [],
   "source": [
    "def plus_one1(digits):\n",
    "    digit=0\n",
    "    for i in digits:\n",
    "        digit=i//1+(digit*10)\n",
    "    digit=digit+1\n",
    "    return list(str(digit))"
   ]
  },
  {
   "cell_type": "code",
   "execution_count": 66,
   "id": "5931f90f",
   "metadata": {},
   "outputs": [
    {
     "data": {
      "text/plain": [
       "['1', '0', '0', '0']"
      ]
     },
     "execution_count": 66,
     "metadata": {},
     "output_type": "execute_result"
    }
   ],
   "source": [
    "digits = [9, 9, 9]\n",
    "plus_one1(digits)"
   ]
  },
  {
   "cell_type": "markdown",
   "id": "ff681ea7",
   "metadata": {},
   "source": [
    "## Missing Number\n",
    "Given an array nums containing n distinct numbers in the range [0, n], return the only number in the range that is missing from the array."
   ]
  },
  {
   "cell_type": "code",
   "execution_count": 90,
   "id": "61301fdd",
   "metadata": {},
   "outputs": [],
   "source": [
    "def find_missing_number(nums):\n",
    "    nums.sort()\n",
    "    print(nums)\n",
    "    for i in range(len(nums)-1):\n",
    "        if nums[i]!=nums[i+1]-1:\n",
    "            return nums[i]+1\n",
    "    return \"no mising values\""
   ]
  },
  {
   "cell_type": "code",
   "execution_count": 91,
   "id": "9cb1a744",
   "metadata": {},
   "outputs": [
    {
     "name": "stdout",
     "output_type": "stream",
     "text": [
      "[0, 1, 2, 3, 4, 6, 7, 8]\n"
     ]
    },
    {
     "data": {
      "text/plain": [
       "5"
      ]
     },
     "execution_count": 91,
     "metadata": {},
     "output_type": "execute_result"
    }
   ],
   "source": [
    "nums= [8, 7, 6, 4, 3, 2, 0, 1]\n",
    "find_missing_number(nums)"
   ]
  },
  {
   "cell_type": "code",
   "execution_count": 92,
   "id": "4d31562d",
   "metadata": {},
   "outputs": [
    {
     "name": "stdout",
     "output_type": "stream",
     "text": [
      "[0, 1, 2, 3, 4, 5, 6, 7, 8]\n"
     ]
    },
    {
     "data": {
      "text/plain": [
       "'no mising values'"
      ]
     },
     "execution_count": 92,
     "metadata": {},
     "output_type": "execute_result"
    }
   ],
   "source": [
    "nums= [8, 7, 6, 4, 3, 2, 0,5,1]\n",
    "find_missing_number(nums)"
   ]
  },
  {
   "cell_type": "markdown",
   "id": "86c2b21b",
   "metadata": {},
   "source": [
    "## Is Array Sorted?\n",
    "Write a function that checks whether the given array is sorted in non-decreasing order. The array is considered sorted if every element is less than or equal to the next element."
   ]
  },
  {
   "cell_type": "code",
   "execution_count": 100,
   "id": "cc44b3f4",
   "metadata": {},
   "outputs": [],
   "source": [
    "\n",
    "def is_sorted(arr):\n",
    "    flag=True\n",
    "    i=0\n",
    "    while i<(len(arr)-1):\n",
    "        if arr[i]<=arr[i+1]:\n",
    "            flag=True\n",
    "        else:\n",
    "            flag=False\n",
    "            break\n",
    "        i=i+1\n",
    "    if flag==True:\n",
    "        print(f\"list {arr} is sorted\")\n",
    "    else:\n",
    "        print(f\"list {arr} is not sorted\")\n",
    "        "
   ]
  },
  {
   "cell_type": "code",
   "execution_count": 101,
   "id": "236f704e",
   "metadata": {},
   "outputs": [
    {
     "name": "stdout",
     "output_type": "stream",
     "text": [
      "list [5, 4, 3, 2, 1] is not sorted\n"
     ]
    }
   ],
   "source": [
    "arr = [5, 4, 3, 2, 1]\n",
    "is_sorted(arr)"
   ]
  },
  {
   "cell_type": "code",
   "execution_count": 102,
   "id": "32d32140",
   "metadata": {},
   "outputs": [
    {
     "name": "stdout",
     "output_type": "stream",
     "text": [
      "list [1, 3, 2, 4, 5] is not sorted\n"
     ]
    }
   ],
   "source": [
    "arr = [1, 3, 2, 4, 5]\n",
    "is_sorted(arr)"
   ]
  },
  {
   "cell_type": "code",
   "execution_count": 103,
   "id": "3290fb85",
   "metadata": {},
   "outputs": [
    {
     "name": "stdout",
     "output_type": "stream",
     "text": [
      "list [1, 2, 3, 4, 5] is sorted\n"
     ]
    }
   ],
   "source": [
    "arr = [1, 2, 3, 4, 5]\n",
    "is_sorted(arr)"
   ]
  },
  {
   "cell_type": "markdown",
   "id": "cedf8051",
   "metadata": {},
   "source": [
    "## Move Zeroes\n",
    "Given an integer array nums, write a function to move all 0s to the end of the array while maintaining the relative order of the non-zero elements."
   ]
  },
  {
   "cell_type": "code",
   "execution_count": 106,
   "id": "69c44c58",
   "metadata": {},
   "outputs": [],
   "source": [
    "\n",
    "def move_zeroes(nums):\n",
    "    l=[]\n",
    "    count=0\n",
    "    for i in nums:\n",
    "        if i!=0:\n",
    "            l.append(i)\n",
    "        elif i==0:\n",
    "            count+=1\n",
    "    for i in range(count):\n",
    "        l.append(0)\n",
    "    return l"
   ]
  },
  {
   "cell_type": "code",
   "execution_count": 107,
   "id": "c1ac106b",
   "metadata": {},
   "outputs": [
    {
     "data": {
      "text/plain": [
       "[1, 3, 12, 0, 0]"
      ]
     },
     "execution_count": 107,
     "metadata": {},
     "output_type": "execute_result"
    }
   ],
   "source": [
    "nums=[0, 1, 0, 3, 12]\n",
    "move_zeroes(nums)"
   ]
  },
  {
   "cell_type": "code",
   "execution_count": 108,
   "id": "9335984a",
   "metadata": {},
   "outputs": [
    {
     "data": {
      "text/plain": [
       "[4, 2, 4, 3, 5, 1, 0, 0, 0, 0]"
      ]
     },
     "execution_count": 108,
     "metadata": {},
     "output_type": "execute_result"
    }
   ],
   "source": [
    "nums=[4, 2, 4, 0, 0, 3, 0, 5, 1, 0]\n",
    "move_zeroes(nums)"
   ]
  },
  {
   "cell_type": "markdown",
   "id": "7eadbe08",
   "metadata": {},
   "source": [
    "## Intersection of two Lists\n",
    "Given two integer arrays nums1 and nums2, return an array of their intersection. Each element in the result must be unique, and you may return the result in any order."
   ]
  },
  {
   "cell_type": "code",
   "execution_count": 123,
   "id": "18258a51",
   "metadata": {},
   "outputs": [
    {
     "data": {
      "text/plain": [
       "[9, 4]"
      ]
     },
     "execution_count": 123,
     "metadata": {},
     "output_type": "execute_result"
    }
   ],
   "source": [
    "nums1 = [4, 9, 5]\n",
    "nums2 = [9, 4, 9, 8, 4]\n",
    "s1=set(nums1)\n",
    "s2=set(nums2)\n",
    "s3=s2.intersection(s1)\n",
    "list(s3)"
   ]
  },
  {
   "cell_type": "markdown",
   "id": "734ced5e",
   "metadata": {},
   "source": [
    "## Max Consecutive Ones\n",
    "Given a binary array nums, return the maximum number of consecutive 1s in the array."
   ]
  },
  {
   "cell_type": "code",
   "execution_count": 138,
   "id": "8bcd1907",
   "metadata": {},
   "outputs": [
    {
     "name": "stdout",
     "output_type": "stream",
     "text": [
      "4\n"
     ]
    }
   ],
   "source": [
    "nums = [1, 0, 1, 1, 0, 1, 1, 1, 1]\n",
    "count=0\n",
    "\n",
    "for i in range(len(nums)-1):\n",
    "    if nums[i]==1 and nums[i+1]==1:\n",
    "        count+=1\n",
    "       \n",
    "    else:\n",
    "        count=0\n",
    "if count!=0:\n",
    "    print(count+1)\n",
    "else:\n",
    "    print(count)\n"
   ]
  },
  {
   "cell_type": "code",
   "execution_count": 139,
   "id": "67fb3395",
   "metadata": {},
   "outputs": [],
   "source": [
    "def max_subarray_sum(arr):\n",
    "    max_sum = float('-inf')  # Initialize max_sum to negative infinity\n",
    "    current_sum = 0\n",
    "\n",
    "    for num in arr:\n",
    "        current_sum += num  # Add the current element to the running sum\n",
    "        max_sum = max(max_sum, current_sum)  # Update max_sum if needed\n",
    "        if current_sum < 0:\n",
    "            current_sum = 0  # Reset current_sum if it becomes negative\n",
    "\n",
    "    return max_sum\n"
   ]
  },
  {
   "cell_type": "code",
   "execution_count": 140,
   "id": "0f9494bd",
   "metadata": {},
   "outputs": [
    {
     "name": "stdout",
     "output_type": "stream",
     "text": [
      "Maximum Subarray Sum: 6\n"
     ]
    }
   ],
   "source": [
    "arr = [-2, 1, -3, 4, -1, 2, 1, -5, 4]\n",
    "\n",
    "result = max_subarray_sum(arr)\n",
    "print(\"Maximum Subarray Sum:\", result)\n"
   ]
  },
  {
   "cell_type": "code",
   "execution_count": null,
   "id": "3a38d24e",
   "metadata": {},
   "outputs": [],
   "source": []
  }
 ],
 "metadata": {
  "kernelspec": {
   "display_name": "Python 3 (ipykernel)",
   "language": "python",
   "name": "python3"
  },
  "language_info": {
   "codemirror_mode": {
    "name": "ipython",
    "version": 3
   },
   "file_extension": ".py",
   "mimetype": "text/x-python",
   "name": "python",
   "nbconvert_exporter": "python",
   "pygments_lexer": "ipython3",
   "version": "3.11.5"
  }
 },
 "nbformat": 4,
 "nbformat_minor": 5
}
