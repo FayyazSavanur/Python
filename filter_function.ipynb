{
 "cells": [
  {
   "cell_type": "code",
   "execution_count": null,
   "id": "ac0433f7",
   "metadata": {},
   "outputs": [],
   "source": [
    "#filter is used to filter out the items from list or any iterable based on the condition\n"
   ]
  },
  {
   "cell_type": "code",
   "execution_count": 2,
   "id": "51795b50",
   "metadata": {},
   "outputs": [],
   "source": [
    "def even(num):\n",
    "    if num%2==0:\n",
    "        return True"
   ]
  },
  {
   "cell_type": "code",
   "execution_count": 4,
   "id": "345b6a14",
   "metadata": {},
   "outputs": [
    {
     "data": {
      "text/plain": [
       "[2, 4, 6, 8, 10]"
      ]
     },
     "execution_count": 4,
     "metadata": {},
     "output_type": "execute_result"
    }
   ],
   "source": [
    "l=[1,2,3,4,5,6,7,8,9,10]\n",
    "list(filter(even,l))"
   ]
  },
  {
   "cell_type": "code",
   "execution_count": 7,
   "id": "2e0d6bc4",
   "metadata": {},
   "outputs": [
    {
     "data": {
      "text/plain": [
       "[6, 7, 8, 9, 10]"
      ]
     },
     "execution_count": 7,
     "metadata": {},
     "output_type": "execute_result"
    }
   ],
   "source": [
    "#filter with a lambda function\n",
    "list(filter(lambda x:x>5, l))"
   ]
  },
  {
   "cell_type": "code",
   "execution_count": 8,
   "id": "fdcc05a1",
   "metadata": {},
   "outputs": [
    {
     "data": {
      "text/plain": [
       "[6, 8, 10]"
      ]
     },
     "execution_count": 8,
     "metadata": {},
     "output_type": "execute_result"
    }
   ],
   "source": [
    "#multiple conditions\n",
    "list(filter(lambda x:x>5 and x%2==0, l))"
   ]
  },
  {
   "cell_type": "code",
   "execution_count": 12,
   "id": "06a6198d",
   "metadata": {},
   "outputs": [
    {
     "data": {
      "text/plain": [
       "[{'name': 'juned', 'age': 30}]"
      ]
     },
     "execution_count": 12,
     "metadata": {},
     "output_type": "execute_result"
    }
   ],
   "source": [
    "people=[\n",
    "    {'name':'fayyaz','age':22},\n",
    "    {'name':'juned','age':30}\n",
    "]\n",
    "def age_25(people):\n",
    "    if people['age']>=25:\n",
    "        return people\n",
    "    \n",
    "list(filter(age_25,people))"
   ]
  },
  {
   "cell_type": "code",
   "execution_count": null,
   "id": "d2176a3e",
   "metadata": {},
   "outputs": [],
   "source": []
  },
  {
   "cell_type": "code",
   "execution_count": null,
   "id": "3adde888",
   "metadata": {},
   "outputs": [],
   "source": []
  },
  {
   "cell_type": "code",
   "execution_count": null,
   "id": "e21d275d",
   "metadata": {},
   "outputs": [],
   "source": []
  }
 ],
 "metadata": {
  "kernelspec": {
   "display_name": "Python 3 (ipykernel)",
   "language": "python",
   "name": "python3"
  },
  "language_info": {
   "codemirror_mode": {
    "name": "ipython",
    "version": 3
   },
   "file_extension": ".py",
   "mimetype": "text/x-python",
   "name": "python",
   "nbconvert_exporter": "python",
   "pygments_lexer": "ipython3",
   "version": "3.11.5"
  }
 },
 "nbformat": 4,
 "nbformat_minor": 5
}
