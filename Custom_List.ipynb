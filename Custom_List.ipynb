{
 "cells": [
  {
   "cell_type": "code",
   "execution_count": 25,
   "id": "82e5d291",
   "metadata": {},
   "outputs": [],
   "source": [
    "import ctypes\n",
    "\n",
    "class CustomList:\n",
    "    def __init__(self):\n",
    "        initial_capacity=1\n",
    "        self.capacity = initial_capacity # how much list can store\n",
    "        self.size = 0 # how much are sorted right now\n",
    "        self.array = self.__create_array(self.capacity)\n",
    "        \n",
    "    def __create_array(self,capacity):\n",
    "        # Create a new referential array with given capacity\n",
    "        return(capacity * ctypes.py_object)()\n",
    "    \n",
    "    def __resize(self,new_capacity):\n",
    "        new_array=self.__create_array(new_capacity)\n",
    "        for i in range(self.size):\n",
    "            new_array[i]=self.array[i]\n",
    "\n",
    "        self.array = new_array #replace the old array\n",
    "        self.capacity = new_capacity\n",
    "            \n",
    "    def append(self,item):\n",
    "        if(self.size == self.capacity):\n",
    "            self.__resize(2*self.capacity)\n",
    "            \n",
    "        self.array[self.size] = item\n",
    "        self.size+=1\n",
    "        \n",
    "    def __len__(self):\n",
    "        \n",
    "        return self.size\n",
    "    \n",
    "    def __str__(self):\n",
    "        output = ''\n",
    "        for i in range(self.size):\n",
    "            output = output+str(self.array[i])+','\n",
    "        return '['+output[:-1]+']'\n",
    "    \n",
    "    def pop(self):\n",
    "        if self.size==0:\n",
    "            return 'Empty list'\n",
    "        \n",
    "        popped_item=self.array[self.size-1]\n",
    "        self.size-=1\n",
    "        return popped_item\n",
    "    \n",
    "    def __getitem__(self,index):\n",
    "        if index>=0 and index<=self.size:\n",
    "            return self.array[index]\n",
    "        else:\n",
    "            return \"Index Error: Index out of range\"\n",
    "        \n",
    "    def clear(self):\n",
    "        self.size=0\n",
    "        \n",
    "    def insert(self,position,element):\n",
    "        if(self.size == self.capacity):\n",
    "            self.__resize(2self.capacity)\n",
    "        for index in range(self.size,position,-1):\n",
    "            self.array[index]=self.array[index-1]\n",
    "            \n",
    "        self.array[position]=element\n",
    "        self.size+=1\n",
    "        \n",
    "  \n",
    "        \n",
    "        \n"
   ]
  },
  {
   "cell_type": "code",
   "execution_count": 26,
   "id": "f86e5534",
   "metadata": {},
   "outputs": [
    {
     "name": "stdout",
     "output_type": "stream",
     "text": [
      "[1,2]\n",
      "2\n",
      "[1]\n",
      "1\n",
      "[]\n",
      "0\n",
      "Empty list\n"
     ]
    }
   ],
   "source": [
    "myList = CustomList()\n",
    "myList.append(1)\n",
    "myList.append(2)\n",
    "print(myList)\n",
    "print(myList.pop())\n",
    "print(myList)\n",
    "print(myList.pop())\n",
    "print(myList)\n",
    "print(len(myList))\n",
    "print(myList.pop())"
   ]
  },
  {
   "cell_type": "code",
   "execution_count": 27,
   "id": "8d3d9d79",
   "metadata": {},
   "outputs": [
    {
     "name": "stdout",
     "output_type": "stream",
     "text": [
      "[1,2]\n",
      "1\n"
     ]
    }
   ],
   "source": [
    "myList = CustomList()\n",
    "myList.append(1)\n",
    "myList.append(2)\n",
    "print(myList)\n",
    "print(myList[0])"
   ]
  },
  {
   "cell_type": "code",
   "execution_count": null,
   "id": "99e3a8de",
   "metadata": {},
   "outputs": [],
   "source": []
  },
  {
   "cell_type": "code",
   "execution_count": null,
   "id": "d33b261d",
   "metadata": {},
   "outputs": [],
   "source": []
  },
  {
   "cell_type": "code",
   "execution_count": null,
   "id": "80847cdd",
   "metadata": {},
   "outputs": [],
   "source": []
  },
  {
   "cell_type": "code",
   "execution_count": null,
   "id": "77ba1998",
   "metadata": {},
   "outputs": [],
   "source": []
  },
  {
   "cell_type": "code",
   "execution_count": null,
   "id": "a7e0a008",
   "metadata": {},
   "outputs": [],
   "source": []
  },
  {
   "cell_type": "code",
   "execution_count": null,
   "id": "25b470ba",
   "metadata": {},
   "outputs": [],
   "source": []
  },
  {
   "cell_type": "code",
   "execution_count": null,
   "id": "db9cdf9e",
   "metadata": {},
   "outputs": [],
   "source": []
  },
  {
   "cell_type": "code",
   "execution_count": null,
   "id": "303f5df5",
   "metadata": {},
   "outputs": [],
   "source": []
  },
  {
   "cell_type": "code",
   "execution_count": null,
   "id": "858b9aff",
   "metadata": {},
   "outputs": [],
   "source": []
  },
  {
   "cell_type": "code",
   "execution_count": null,
   "id": "4dec8335",
   "metadata": {},
   "outputs": [],
   "source": []
  },
  {
   "cell_type": "code",
   "execution_count": null,
   "id": "1f04c962",
   "metadata": {},
   "outputs": [],
   "source": []
  },
  {
   "cell_type": "code",
   "execution_count": null,
   "id": "a6575de3",
   "metadata": {},
   "outputs": [],
   "source": []
  },
  {
   "cell_type": "code",
   "execution_count": null,
   "id": "c1f9d67e",
   "metadata": {},
   "outputs": [],
   "source": []
  },
  {
   "cell_type": "code",
   "execution_count": null,
   "id": "5b39e0d8",
   "metadata": {},
   "outputs": [],
   "source": []
  },
  {
   "cell_type": "code",
   "execution_count": null,
   "id": "8f073c11",
   "metadata": {},
   "outputs": [],
   "source": []
  },
  {
   "cell_type": "code",
   "execution_count": null,
   "id": "50f15294",
   "metadata": {},
   "outputs": [],
   "source": []
  },
  {
   "cell_type": "code",
   "execution_count": null,
   "id": "dd6ba134",
   "metadata": {},
   "outputs": [],
   "source": []
  },
  {
   "cell_type": "code",
   "execution_count": null,
   "id": "463f256a",
   "metadata": {},
   "outputs": [],
   "source": []
  }
 ],
 "metadata": {
  "kernelspec": {
   "display_name": "Python 3 (ipykernel)",
   "language": "python",
   "name": "python3"
  },
  "language_info": {
   "codemirror_mode": {
    "name": "ipython",
    "version": 3
   },
   "file_extension": ".py",
   "mimetype": "text/x-python",
   "name": "python",
   "nbconvert_exporter": "python",
   "pygments_lexer": "ipython3",
   "version": "3.11.5"
  }
 },
 "nbformat": 4,
 "nbformat_minor": 5
}
