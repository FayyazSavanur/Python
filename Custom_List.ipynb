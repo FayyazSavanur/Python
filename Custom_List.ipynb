{
 "cells": [
  {
   "cell_type": "code",
   "execution_count": 25,
   "id": "4db7cf12",
   "metadata": {},
   "outputs": [],
   "source": [
    "import ctypes\n",
    "\n",
    "class CustomList:\n",
    "    def __init__(self):\n",
    "        initial_capacity=1\n",
    "        self.capacity = initial_capacity # how much list can store\n",
    "        self.size = 0 # how much are sorted right now\n",
    "        self.array = self.__create_array(self.capacity)\n",
    "        \n",
    "    def __create_array(self,capacity):\n",
    "        # Create a new referential array with given capacity\n",
    "        return(capacity * ctypes.py_object)()\n",
    "    \n",
    "    def __resize(self,new_capacity):\n",
    "        new_array=self.__create_array(new_capacity)\n",
    "        for i in range(self.size):\n",
    "            new_array[i]=self.array[i]\n",
    "\n",
    "        self.array = new_array #replace the old array\n",
    "        self.capacity = new_capacity\n",
    "            \n",
    "    def append(self,item):\n",
    "        if(self.size == self.capacity):\n",
    "            self.__resize(2*self.capacity)\n",
    "            \n",
    "        self.array[self.size] = item\n",
    "        self.size+=1\n",
    "        \n",
    "    def __len__(self):\n",
    "        \n",
    "        return self.size\n",
    "    \n",
    "    def __str__(self):\n",
    "        output = ''\n",
    "        for i in range(self.size):\n",
    "            output = output+str(self.array[i])+','\n",
    "        return '['+output[:-1]+']'\n",
    "    \n",
    "    def pop(self):\n",
    "        if self.size==0:\n",
    "            return 'Empty list'\n",
    "        \n",
    "        popped_item=self.array[self.size-1]\n",
    "        self.size-=1\n",
    "        return popped_item\n",
    "    \n",
    "    def __getitem__(self,index):\n",
    "        if index>=0 and index<=self.size:\n",
    "            return self.array[index]\n",
    "        else:\n",
    "            return \"Index Error: Index out of range\"\n",
    "        \n",
    "    def clear(self):\n",
    "        self.size=0\n",
    "        \n",
    "    def insert(self,position,element):\n",
    "        if(self.size == self.capacity):\n",
    "            self.__resize(2self.capacity)\n",
    "        for index in range(self.size,position,-1):\n",
    "            self.array[index]=self.array[index-1]\n",
    "            \n",
    "        self.array[position]=element\n",
    "        self.size+=1\n",
    "        \n",
    "  \n",
    "        \n",
    "        \n"
   ]
  },
  {
   "cell_type": "code",
   "execution_count": 26,
   "id": "1300eac9",
   "metadata": {},
   "outputs": [
    {
     "name": "stdout",
     "output_type": "stream",
     "text": [
      "[1,2]\n",
      "2\n",
      "[1]\n",
      "1\n",
      "[]\n",
      "0\n",
      "Empty list\n"
     ]
    }
   ],
   "source": [
    "myList = CustomList()\n",
    "myList.append(1)\n",
    "myList.append(2)\n",
    "print(myList)\n",
    "print(myList.pop())\n",
    "print(myList)\n",
    "print(myList.pop())\n",
    "print(myList)\n",
    "print(len(myList))\n",
    "print(myList.pop())"
   ]
  },
  {
   "cell_type": "code",
   "execution_count": 27,
   "id": "81cb25f3",
   "metadata": {},
   "outputs": [
    {
     "name": "stdout",
     "output_type": "stream",
     "text": [
      "[1,2]\n",
      "1\n"
     ]
    }
   ],
   "source": [
    "myList = CustomList()\n",
    "myList.append(1)\n",
    "myList.append(2)\n",
    "print(myList)\n",
    "print(myList[0])"
   ]
  },
  {
   "cell_type": "code",
   "execution_count": null,
   "id": "e7d66d80",
   "metadata": {},
   "outputs": [],
   "source": []
  },
  {
   "cell_type": "code",
   "execution_count": null,
   "id": "c92103b3",
   "metadata": {},
   "outputs": [],
   "source": []
  },
  {
   "cell_type": "code",
   "execution_count": null,
   "id": "94c5a07b",
   "metadata": {},
   "outputs": [],
   "source": []
  },
  {
   "cell_type": "code",
   "execution_count": null,
   "id": "95058302",
   "metadata": {},
   "outputs": [],
   "source": []
  },
  {
   "cell_type": "code",
   "execution_count": null,
   "id": "2bb8e2ea",
   "metadata": {},
   "outputs": [],
   "source": []
  },
  {
   "cell_type": "code",
   "execution_count": null,
   "id": "335ab78b",
   "metadata": {},
   "outputs": [],
   "source": []
  },
  {
   "cell_type": "code",
   "execution_count": null,
   "id": "7f1c446b",
   "metadata": {},
   "outputs": [],
   "source": []
  },
  {
   "cell_type": "code",
   "execution_count": null,
   "id": "1e7dcb4c",
   "metadata": {},
   "outputs": [],
   "source": []
  },
  {
   "cell_type": "code",
   "execution_count": null,
   "id": "4a1a464f",
   "metadata": {},
   "outputs": [],
   "source": []
  },
  {
   "cell_type": "code",
   "execution_count": null,
   "id": "55ae472e",
   "metadata": {},
   "outputs": [],
   "source": []
  },
  {
   "cell_type": "code",
   "execution_count": null,
   "id": "e22bbc8a",
   "metadata": {},
   "outputs": [],
   "source": []
  },
  {
   "cell_type": "code",
   "execution_count": null,
   "id": "5a6ab05e",
   "metadata": {},
   "outputs": [],
   "source": []
  },
  {
   "cell_type": "code",
   "execution_count": null,
   "id": "3a9d98ea",
   "metadata": {},
   "outputs": [],
   "source": []
  },
  {
   "cell_type": "code",
   "execution_count": null,
   "id": "b90b79b3",
   "metadata": {},
   "outputs": [],
   "source": []
  },
  {
   "cell_type": "code",
   "execution_count": null,
   "id": "fb9cf7e9",
   "metadata": {},
   "outputs": [],
   "source": []
  },
  {
   "cell_type": "code",
   "execution_count": null,
   "id": "79b6558c",
   "metadata": {},
   "outputs": [],
   "source": []
  },
  {
   "cell_type": "code",
   "execution_count": null,
   "id": "b095bb47",
   "metadata": {},
   "outputs": [],
   "source": []
  },
  {
   "cell_type": "code",
   "execution_count": null,
   "id": "046e4941",
   "metadata": {},
   "outputs": [],
   "source": []
  }
 ],
 "metadata": {
  "kernelspec": {
   "display_name": "Python 3 (ipykernel)",
   "language": "python",
   "name": "python3"
  },
  "language_info": {
   "codemirror_mode": {
    "name": "ipython",
    "version": 3
   },
   "file_extension": ".py",
   "mimetype": "text/x-python",
   "name": "python",
   "nbconvert_exporter": "python",
   "pygments_lexer": "ipython3",
   "version": "3.11.5"
  }
 },
 "nbformat": 4,
 "nbformat_minor": 5
}
