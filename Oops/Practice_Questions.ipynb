{
 "cells": [
  {
   "cell_type": "markdown",
   "id": "15d158be",
   "metadata": {},
   "source": [
    "## Bank Account System\n",
    "Design a Python class named `BankAccount` to represent bank accounts. Theory: A bank account typically includes attributes such as account number, balance, and account holder name. The class should handle operations such as deposit, withdrawal, and transfer of funds between accounts. Operations: 1. Deposit: Add funds to the account 2. Withdrawal: Subtract funds from the account 3. Transfer: Transfer funds from one account to another Test Cases: Test Case 1: acc1 = BankAccount(\"John Doe\", 1000) acc2 = BankAccount(\"Jane Smith\", 2000) assert acc1.balance == 1000 assert acc2.balance == 2000 acc1.deposit(500) acc2.withdraw(100) acc1.transfer(acc2, 200) assert acc1.balance == 1300 assert acc2.balance == 2300 Test Case 2: acc3 = BankAccount(\"Alice Johnson\", 500) acc4 = BankAccount(\"Bob Brown\", 1500) assert acc3.balance == 500 assert acc4.balance == 1500 acc3.deposit(100) acc4.withdraw(200) acc3.transfer(acc4, 300) assert acc3.balance == 400 assert acc4.balance == 1800 \"\"\""
   ]
  },
  {
   "cell_type": "code",
   "execution_count": 21,
   "id": "a2fc0aec",
   "metadata": {},
   "outputs": [],
   "source": [
    "class BankAccount:\n",
    "    \n",
    "    def __init__(self, account_holder, balance=0):\n",
    "        self.account_holder=account_holder\n",
    "        self.balance=balance\n",
    "        \n",
    "    def deposit(self,amount):\n",
    "        if amount<0:\n",
    "            raise ValueError(\"Amount should be positive\")\n",
    "        else:\n",
    "            self.balance+=amount\n",
    "            print(f\"Balance after depositing {amount} is {self.balance} \")\n",
    "\n",
    "    def withdraw(self,amount):\n",
    "        if amount<0:\n",
    "            raise ValueError(\"Amount should be positive\")\n",
    "        elif amount>self.balance:\n",
    "            raise ValueError(\"Insufficient Funds\")\n",
    "        else:\n",
    "            self.balance-=amount\n",
    "            print(f\"Balance after withdrawing {amount} is {self.balance} \")\n",
    "        \n",
    "    def transfer(self,Traget_account,amount):\n",
    "        if not isinstance(Traget_account, BankAccount):\n",
    "            raise TypeError(\"Target account must be a BankAccount instance.\")\n",
    "        if amount <= 0:\n",
    "            raise ValueError(\"Transfer amount must be positive.\")\n",
    "        self.withdraw(amount)\n",
    "        Traget_account.deposit(amount)\n",
    "    \n",
    "    def __str__(self):\n",
    "        return (f\"Account Holder: {self.account_holder}\\n\"\n",
    "                f\"Balance: {self.balance}\")\n",
    "        \n",
    "    \n",
    "        "
   ]
  },
  {
   "cell_type": "markdown",
   "id": "eb4d097f",
   "metadata": {},
   "source": [
    "\n",
    "Test Case 1:\n",
    "\n",
    "acc1 = BankAccount(\"John Doe\", 1000)\n",
    "\n",
    "acc2 = BankAccount(\"Jane Smith\", 2000) \n",
    "\n",
    "acc1.balance == 1000 \n",
    "\n",
    "acc2.balance == 2000\n",
    "\n",
    "acc1.deposit(500)\n",
    "\n",
    "acc2.withdraw(100)\n",
    "\n",
    "acc1.transfer(acc2, 200) \n",
    "\n",
    "acc1.balance == 1300 \n",
    "\n",
    "acc2.balance == 2100 "
   ]
  },
  {
   "cell_type": "code",
   "execution_count": 23,
   "id": "31d8bad1",
   "metadata": {},
   "outputs": [],
   "source": [
    "acc1 = BankAccount(\"John Doe\", 1000)\n",
    "acc2 = BankAccount(\"Jane Smith\", 2000)"
   ]
  },
  {
   "cell_type": "code",
   "execution_count": 24,
   "id": "f9515af3",
   "metadata": {},
   "outputs": [
    {
     "name": "stdout",
     "output_type": "stream",
     "text": [
      "1000\n"
     ]
    }
   ],
   "source": [
    "print(acc1.balance )"
   ]
  },
  {
   "cell_type": "code",
   "execution_count": 25,
   "id": "bf17384f",
   "metadata": {},
   "outputs": [
    {
     "name": "stdout",
     "output_type": "stream",
     "text": [
      "2000\n"
     ]
    }
   ],
   "source": [
    "print(acc2.balance)"
   ]
  },
  {
   "cell_type": "code",
   "execution_count": 26,
   "id": "0d440d0c",
   "metadata": {},
   "outputs": [
    {
     "name": "stdout",
     "output_type": "stream",
     "text": [
      "Balance after depositing 500 is 1500 \n"
     ]
    }
   ],
   "source": [
    "acc1.deposit(500)"
   ]
  },
  {
   "cell_type": "code",
   "execution_count": 27,
   "id": "f6bd61fa",
   "metadata": {},
   "outputs": [
    {
     "name": "stdout",
     "output_type": "stream",
     "text": [
      "Balance after withdrawing 100 is 1900 \n"
     ]
    }
   ],
   "source": [
    "acc2.withdraw(100)"
   ]
  },
  {
   "cell_type": "code",
   "execution_count": 28,
   "id": "32bf5cf6",
   "metadata": {},
   "outputs": [
    {
     "name": "stdout",
     "output_type": "stream",
     "text": [
      "Balance after withdrawing 200 is 1300 \n",
      "Balance after depositing 200 is 2100 \n"
     ]
    }
   ],
   "source": [
    "acc1.transfer(acc2, 200)"
   ]
  },
  {
   "cell_type": "markdown",
   "id": "ce9ddb57",
   "metadata": {},
   "source": [
    "Test Case 2:\n",
    "\n",
    "acc3 = BankAccount(\"Alice Johnson\", 500) \n",
    "\n",
    "acc4 = BankAccount(\"Bob Brown\", 1500) \n",
    "\n",
    "acc3.balance == 500\n",
    "\n",
    "acc4.balance == 1500 \n",
    "\n",
    "acc3.deposit(100) \n",
    "\n",
    "acc4.withdraw(200) \n",
    "\n",
    "acc3.transfer(acc4, 300) \n",
    "\n",
    "acc3.balance == 300 \n",
    "\n",
    "acc4.balance == 1600 "
   ]
  },
  {
   "cell_type": "code",
   "execution_count": 29,
   "id": "0c181670",
   "metadata": {},
   "outputs": [],
   "source": [
    "acc3 = BankAccount(\"Alice Johnson\", 500)\n",
    "\n",
    "acc4 = BankAccount(\"Bob Brown\", 1500)"
   ]
  },
  {
   "cell_type": "code",
   "execution_count": 32,
   "id": "04317322",
   "metadata": {},
   "outputs": [
    {
     "name": "stdout",
     "output_type": "stream",
     "text": [
      "500\n",
      "1500\n"
     ]
    }
   ],
   "source": [
    "print(acc3.balance)\n",
    "\n",
    "print(acc4.balance)"
   ]
  },
  {
   "cell_type": "code",
   "execution_count": 33,
   "id": "92e648d2",
   "metadata": {},
   "outputs": [
    {
     "name": "stdout",
     "output_type": "stream",
     "text": [
      "Balance after depositing 100 is 600 \n"
     ]
    }
   ],
   "source": [
    "acc3.deposit(100)"
   ]
  },
  {
   "cell_type": "code",
   "execution_count": 34,
   "id": "be29d902",
   "metadata": {},
   "outputs": [
    {
     "name": "stdout",
     "output_type": "stream",
     "text": [
      "Balance after withdrawing 200 is 1300 \n"
     ]
    }
   ],
   "source": [
    "acc4.withdraw(200)"
   ]
  },
  {
   "cell_type": "code",
   "execution_count": 35,
   "id": "0fcc82b9",
   "metadata": {},
   "outputs": [
    {
     "name": "stdout",
     "output_type": "stream",
     "text": [
      "Balance after withdrawing 300 is 300 \n",
      "Balance after depositing 300 is 1600 \n"
     ]
    }
   ],
   "source": [
    "acc3.transfer(acc4, 300)"
   ]
  },
  {
   "cell_type": "markdown",
   "id": "90b616c0",
   "metadata": {},
   "source": [
    "## Complex Number Class\n",
    "**Problem Description**\n",
    "\n",
    "Design a Python class named ComplexNumber to represent complex numbers and implement common methods to work with them. A complex number is a number of the form a+bia + bia+bi, where aaa is the real part and bbb is the imaginary part, and iii is the imaginary unit (i.e., −1\\sqrt{-1}−1​).\n",
    "\n",
    "Specifications\n",
    "\n",
    "**Constructor Method (__init__):** Initialize two attributes, real and imaginary, representing the real and imaginary parts of the complex number.\n",
    "\n",
    "**Addition Method (add):** Implement a method to add another ComplexNumber object to the current one. The result should be a new ComplexNumber object with the sum of the real and imaginary parts.\n",
    "\n",
    "**Subtraction Method (subtract):** Implement a method to subtract another ComplexNumber object from the current one. The result should be a new ComplexNumber object with the difference of the real and imaginary parts.\n",
    "\n",
    "**Multiplication Method (multiply):** Implement a method to multiply the current ComplexNumber object by another ComplexNumber object. The result should be a new ComplexNumber object with the product.\n",
    "\n",
    "**Comparison Method (__eq__):** Implement a method to compare two ComplexNumber objects for equality. Two complex numbers are considered equal if both their real and imaginary parts are equal.\n",
    "\n",
    "**String Representation Method (__str__):** Implement a method to return a string representation of the complex number in the format \"a + bi\".\n",
    "\n",
    "**Comparison with Python's Built-in Complex Class:** After implementing the ComplexNumber class, compare its functionality with Python's built-in complex class. Show examples of addition, subtraction, multiplication, and division using both classes."
   ]
  },
  {
   "cell_type": "code",
   "execution_count": 56,
   "id": "9602d5eb",
   "metadata": {},
   "outputs": [],
   "source": [
    "class ComplexNumber:\n",
    "    def __init__(self,real_number,imaginary_number):\n",
    "        self.real_number=real_number\n",
    "        self.imaginary_number=imaginary_number\n",
    "    \n",
    "    def add(self,other):\n",
    "        print(f\"{self.real_number + other.real_number} + {self.imaginary_number+other.imaginary_number}i\")\n",
    "        \n",
    "    def sub(self,other):\n",
    "        print(f\"{self.real_number - other.real_number} + {self.imaginary_number - other.imaginary_number}i\")\n",
    "        \n",
    "    #(ac−bd)+(ad+bc)i\n",
    "    def mul(self,other):\n",
    "        print(f\"{(self.real_number*other.real_number)-(self.imaginary_number*other.imaginary_number)}+ {(self.real_number*other.imaginary_number)+(self.imaginary_number*other.real_number)}i\")\n",
    "    \n",
    "    def __eq__(self, other):\n",
    "        if self.real_number == other.real_number and self.imaginary_number == other.imaginary_number:\n",
    "            print(\"complex numbers are equal\")\n",
    "        else:\n",
    "            print(\"complex numbers are not equal\")\n",
    "            \n",
    "    def __str__(self):\n",
    "        return f\"{self.real} + {self.imaginary}i\"\n"
   ]
  },
  {
   "cell_type": "code",
   "execution_count": 61,
   "id": "3606d0b1",
   "metadata": {},
   "outputs": [],
   "source": [
    "c1=ComplexNumber(2,3)\n",
    "c2=ComplexNumber(1,4)\n"
   ]
  },
  {
   "cell_type": "code",
   "execution_count": 62,
   "id": "30ff3970",
   "metadata": {},
   "outputs": [
    {
     "name": "stdout",
     "output_type": "stream",
     "text": [
      "3 + 7i\n",
      "None\n",
      "1 + -1i\n",
      "None\n",
      "-10+ 11i\n",
      "None\n",
      "complex numbers are not equal\n",
      "None\n"
     ]
    }
   ],
   "source": [
    "print(c1.add(c2))\n",
    "print(c1.sub(c2))\n",
    "print(c1.mul(c2))\n",
    "print(c1.__eq__(c2))"
   ]
  },
  {
   "cell_type": "code",
   "execution_count": 63,
   "id": "775edc08",
   "metadata": {},
   "outputs": [],
   "source": [
    "py_c1 = complex(2, 3)\n",
    "py_c2 = complex(1, 4)\n"
   ]
  },
  {
   "cell_type": "code",
   "execution_count": null,
   "id": "ce498be6",
   "metadata": {},
   "outputs": [],
   "source": [
    "print(py_c1.add(py_c2))\n",
    "print(py_c1.sub(py_c2))\n",
    "print(py_c1.mul(py_c2))\n",
    "print(py_c1.__eq__(c2))"
   ]
  }
 ],
 "metadata": {
  "kernelspec": {
   "display_name": "Python 3 (ipykernel)",
   "language": "python",
   "name": "python3"
  },
  "language_info": {
   "codemirror_mode": {
    "name": "ipython",
    "version": 3
   },
   "file_extension": ".py",
   "mimetype": "text/x-python",
   "name": "python",
   "nbconvert_exporter": "python",
   "pygments_lexer": "ipython3",
   "version": "3.11.5"
  }
 },
 "nbformat": 4,
 "nbformat_minor": 5
}
