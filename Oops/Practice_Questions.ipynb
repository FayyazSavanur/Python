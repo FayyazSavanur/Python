{
 "cells": [
  {
   "cell_type": "markdown",
   "id": "8dac92fa",
   "metadata": {},
   "source": [
    "## Bank Account System\n",
    "Design a Python class named `BankAccount` to represent bank accounts. Theory: A bank account typically includes attributes such as account number, balance, and account holder name. The class should handle operations such as deposit, withdrawal, and transfer of funds between accounts. Operations: 1. Deposit: Add funds to the account 2. Withdrawal: Subtract funds from the account 3. Transfer: Transfer funds from one account to another Test Cases: Test Case 1: acc1 = BankAccount(\"John Doe\", 1000) acc2 = BankAccount(\"Jane Smith\", 2000) assert acc1.balance == 1000 assert acc2.balance == 2000 acc1.deposit(500) acc2.withdraw(100) acc1.transfer(acc2, 200) assert acc1.balance == 1300 assert acc2.balance == 2300 Test Case 2: acc3 = BankAccount(\"Alice Johnson\", 500) acc4 = BankAccount(\"Bob Brown\", 1500) assert acc3.balance == 500 assert acc4.balance == 1500 acc3.deposit(100) acc4.withdraw(200) acc3.transfer(acc4, 300) assert acc3.balance == 400 assert acc4.balance == 1800 \"\"\""
   ]
  },
  {
   "cell_type": "code",
   "execution_count": 21,
   "id": "0c5b7056",
   "metadata": {},
   "outputs": [],
   "source": [
    "class BankAccount:\n",
    "    \n",
    "    def __init__(self, account_holder, balance=0):\n",
    "        self.account_holder=account_holder\n",
    "        self.balance=balance\n",
    "        \n",
    "    def deposit(self,amount):\n",
    "        if amount<0:\n",
    "            raise ValueError(\"Amount should be positive\")\n",
    "        else:\n",
    "            self.balance+=amount\n",
    "            print(f\"Balance after depositing {amount} is {self.balance} \")\n",
    "\n",
    "    def withdraw(self,amount):\n",
    "        if amount<0:\n",
    "            raise ValueError(\"Amount should be positive\")\n",
    "        elif amount>self.balance:\n",
    "            raise ValueError(\"Insufficient Funds\")\n",
    "        else:\n",
    "            self.balance-=amount\n",
    "            print(f\"Balance after withdrawing {amount} is {self.balance} \")\n",
    "        \n",
    "    def transfer(self,Traget_account,amount):\n",
    "        if not isinstance(Traget_account, BankAccount):\n",
    "            raise TypeError(\"Target account must be a BankAccount instance.\")\n",
    "        if amount <= 0:\n",
    "            raise ValueError(\"Transfer amount must be positive.\")\n",
    "        self.withdraw(amount)\n",
    "        Traget_account.deposit(amount)\n",
    "    \n",
    "    def __str__(self):\n",
    "        return (f\"Account Holder: {self.account_holder}\\n\"\n",
    "                f\"Balance: {self.balance}\")\n",
    "        \n",
    "    \n",
    "        "
   ]
  },
  {
   "cell_type": "markdown",
   "id": "b02f7efa",
   "metadata": {},
   "source": [
    "\n",
    "Test Case 1:\n",
    "\n",
    "acc1 = BankAccount(\"John Doe\", 1000)\n",
    "\n",
    "acc2 = BankAccount(\"Jane Smith\", 2000) \n",
    "\n",
    "acc1.balance == 1000 \n",
    "\n",
    "acc2.balance == 2000\n",
    "\n",
    "acc1.deposit(500)\n",
    "\n",
    "acc2.withdraw(100)\n",
    "\n",
    "acc1.transfer(acc2, 200) \n",
    "\n",
    "acc1.balance == 1300 \n",
    "\n",
    "acc2.balance == 2100 "
   ]
  },
  {
   "cell_type": "code",
   "execution_count": 23,
   "id": "3ff507d7",
   "metadata": {},
   "outputs": [],
   "source": [
    "acc1 = BankAccount(\"John Doe\", 1000)\n",
    "acc2 = BankAccount(\"Jane Smith\", 2000)"
   ]
  },
  {
   "cell_type": "code",
   "execution_count": 24,
   "id": "fa2381e8",
   "metadata": {},
   "outputs": [
    {
     "name": "stdout",
     "output_type": "stream",
     "text": [
      "1000\n"
     ]
    }
   ],
   "source": [
    "print(acc1.balance )"
   ]
  },
  {
   "cell_type": "code",
   "execution_count": 25,
   "id": "4d178974",
   "metadata": {},
   "outputs": [
    {
     "name": "stdout",
     "output_type": "stream",
     "text": [
      "2000\n"
     ]
    }
   ],
   "source": [
    "print(acc2.balance)"
   ]
  },
  {
   "cell_type": "code",
   "execution_count": 26,
   "id": "abf4cc3e",
   "metadata": {},
   "outputs": [
    {
     "name": "stdout",
     "output_type": "stream",
     "text": [
      "Balance after depositing 500 is 1500 \n"
     ]
    }
   ],
   "source": [
    "acc1.deposit(500)"
   ]
  },
  {
   "cell_type": "code",
   "execution_count": 27,
   "id": "68729713",
   "metadata": {},
   "outputs": [
    {
     "name": "stdout",
     "output_type": "stream",
     "text": [
      "Balance after withdrawing 100 is 1900 \n"
     ]
    }
   ],
   "source": [
    "acc2.withdraw(100)"
   ]
  },
  {
   "cell_type": "code",
   "execution_count": 28,
   "id": "49cf7af9",
   "metadata": {},
   "outputs": [
    {
     "name": "stdout",
     "output_type": "stream",
     "text": [
      "Balance after withdrawing 200 is 1300 \n",
      "Balance after depositing 200 is 2100 \n"
     ]
    }
   ],
   "source": [
    "acc1.transfer(acc2, 200)"
   ]
  },
  {
   "cell_type": "markdown",
   "id": "3e6bc0cb",
   "metadata": {},
   "source": [
    "Test Case 2:\n",
    "\n",
    "acc3 = BankAccount(\"Alice Johnson\", 500) \n",
    "\n",
    "acc4 = BankAccount(\"Bob Brown\", 1500) \n",
    "\n",
    "acc3.balance == 500\n",
    "\n",
    "acc4.balance == 1500 \n",
    "\n",
    "acc3.deposit(100) \n",
    "\n",
    "acc4.withdraw(200) \n",
    "\n",
    "acc3.transfer(acc4, 300) \n",
    "\n",
    "acc3.balance == 400 \n",
    "\n",
    "acc4.balance == 1800 "
   ]
  },
  {
   "cell_type": "code",
   "execution_count": 29,
   "id": "7ea3c98c",
   "metadata": {},
   "outputs": [],
   "source": [
    "acc3 = BankAccount(\"Alice Johnson\", 500)\n",
    "\n",
    "acc4 = BankAccount(\"Bob Brown\", 1500)"
   ]
  },
  {
   "cell_type": "code",
   "execution_count": 32,
   "id": "e9ad86b4",
   "metadata": {},
   "outputs": [
    {
     "name": "stdout",
     "output_type": "stream",
     "text": [
      "500\n",
      "1500\n"
     ]
    }
   ],
   "source": [
    "print(acc3.balance)\n",
    "\n",
    "print(acc4.balance)"
   ]
  },
  {
   "cell_type": "code",
   "execution_count": null,
   "id": "dae13aa7",
   "metadata": {},
   "outputs": [],
   "source": []
  },
  {
   "cell_type": "code",
   "execution_count": null,
   "id": "9d181886",
   "metadata": {},
   "outputs": [],
   "source": []
  },
  {
   "cell_type": "code",
   "execution_count": null,
   "id": "50819ac2",
   "metadata": {},
   "outputs": [],
   "source": []
  },
  {
   "cell_type": "code",
   "execution_count": null,
   "id": "3e926b87",
   "metadata": {},
   "outputs": [],
   "source": []
  }
 ],
 "metadata": {
  "kernelspec": {
   "display_name": "Python 3 (ipykernel)",
   "language": "python",
   "name": "python3"
  },
  "language_info": {
   "codemirror_mode": {
    "name": "ipython",
    "version": 3
   },
   "file_extension": ".py",
   "mimetype": "text/x-python",
   "name": "python",
   "nbconvert_exporter": "python",
   "pygments_lexer": "ipython3",
   "version": "3.11.5"
  }
 },
 "nbformat": 4,
 "nbformat_minor": 5
}
