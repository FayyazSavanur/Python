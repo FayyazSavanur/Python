{
 "cells": [
  {
   "cell_type": "markdown",
   "id": "77518631",
   "metadata": {},
   "source": [
    "## Bank Account System\n",
    "Design a Python class named `BankAccount` to represent bank accounts. Theory: A bank account typically includes attributes such as account number, balance, and account holder name. The class should handle operations such as deposit, withdrawal, and transfer of funds between accounts. Operations: 1. Deposit: Add funds to the account 2. Withdrawal: Subtract funds from the account 3. Transfer: Transfer funds from one account to another Test Cases: Test Case 1: acc1 = BankAccount(\"John Doe\", 1000) acc2 = BankAccount(\"Jane Smith\", 2000) assert acc1.balance == 1000 assert acc2.balance == 2000 acc1.deposit(500) acc2.withdraw(100) acc1.transfer(acc2, 200) assert acc1.balance == 1300 assert acc2.balance == 2300 Test Case 2: acc3 = BankAccount(\"Alice Johnson\", 500) acc4 = BankAccount(\"Bob Brown\", 1500) assert acc3.balance == 500 assert acc4.balance == 1500 acc3.deposit(100) acc4.withdraw(200) acc3.transfer(acc4, 300) assert acc3.balance == 400 assert acc4.balance == 1800 \"\"\""
   ]
  },
  {
   "cell_type": "code",
   "execution_count": 21,
   "id": "0dd76c7e",
   "metadata": {},
   "outputs": [],
   "source": [
    "class BankAccount:\n",
    "    \n",
    "    def __init__(self, account_holder, balance=0):\n",
    "        self.account_holder=account_holder\n",
    "        self.balance=balance\n",
    "        \n",
    "    def deposit(self,amount):\n",
    "        if amount<0:\n",
    "            raise ValueError(\"Amount should be positive\")\n",
    "        else:\n",
    "            self.balance+=amount\n",
    "            print(f\"Balance after depositing {amount} is {self.balance} \")\n",
    "\n",
    "    def withdraw(self,amount):\n",
    "        if amount<0:\n",
    "            raise ValueError(\"Amount should be positive\")\n",
    "        elif amount>self.balance:\n",
    "            raise ValueError(\"Insufficient Funds\")\n",
    "        else:\n",
    "            self.balance-=amount\n",
    "            print(f\"Balance after withdrawing {amount} is {self.balance} \")\n",
    "        \n",
    "    def transfer(self,Traget_account,amount):\n",
    "        if not isinstance(Traget_account, BankAccount):\n",
    "            raise TypeError(\"Target account must be a BankAccount instance.\")\n",
    "        if amount <= 0:\n",
    "            raise ValueError(\"Transfer amount must be positive.\")\n",
    "        self.withdraw(amount)\n",
    "        Traget_account.deposit(amount)\n",
    "    \n",
    "    def __str__(self):\n",
    "        return (f\"Account Holder: {self.account_holder}\\n\"\n",
    "                f\"Balance: {self.balance}\")\n",
    "        \n",
    "    \n",
    "        "
   ]
  },
  {
   "cell_type": "markdown",
   "id": "6602156c",
   "metadata": {},
   "source": [
    "\n",
    "Test Case 1:\n",
    "\n",
    "acc1 = BankAccount(\"John Doe\", 1000)\n",
    "\n",
    "acc2 = BankAccount(\"Jane Smith\", 2000) \n",
    "\n",
    "acc1.balance == 1000 \n",
    "\n",
    "acc2.balance == 2000\n",
    "\n",
    "acc1.deposit(500)\n",
    "\n",
    "acc2.withdraw(100)\n",
    "\n",
    "acc1.transfer(acc2, 200) \n",
    "\n",
    "acc1.balance == 1300 \n",
    "\n",
    "acc2.balance == 2100 "
   ]
  },
  {
   "cell_type": "code",
   "execution_count": 23,
   "id": "13b0ce86",
   "metadata": {},
   "outputs": [],
   "source": [
    "acc1 = BankAccount(\"John Doe\", 1000)\n",
    "acc2 = BankAccount(\"Jane Smith\", 2000)"
   ]
  },
  {
   "cell_type": "code",
   "execution_count": 24,
   "id": "c84debbe",
   "metadata": {},
   "outputs": [
    {
     "name": "stdout",
     "output_type": "stream",
     "text": [
      "1000\n"
     ]
    }
   ],
   "source": [
    "print(acc1.balance )"
   ]
  },
  {
   "cell_type": "code",
   "execution_count": 25,
   "id": "feeefb3c",
   "metadata": {},
   "outputs": [
    {
     "name": "stdout",
     "output_type": "stream",
     "text": [
      "2000\n"
     ]
    }
   ],
   "source": [
    "print(acc2.balance)"
   ]
  },
  {
   "cell_type": "code",
   "execution_count": 26,
   "id": "a4c06f1b",
   "metadata": {},
   "outputs": [
    {
     "name": "stdout",
     "output_type": "stream",
     "text": [
      "Balance after depositing 500 is 1500 \n"
     ]
    }
   ],
   "source": [
    "acc1.deposit(500)"
   ]
  },
  {
   "cell_type": "code",
   "execution_count": 27,
   "id": "fa1a2d5c",
   "metadata": {},
   "outputs": [
    {
     "name": "stdout",
     "output_type": "stream",
     "text": [
      "Balance after withdrawing 100 is 1900 \n"
     ]
    }
   ],
   "source": [
    "acc2.withdraw(100)"
   ]
  },
  {
   "cell_type": "code",
   "execution_count": 28,
   "id": "95f31aa5",
   "metadata": {},
   "outputs": [
    {
     "name": "stdout",
     "output_type": "stream",
     "text": [
      "Balance after withdrawing 200 is 1300 \n",
      "Balance after depositing 200 is 2100 \n"
     ]
    }
   ],
   "source": [
    "acc1.transfer(acc2, 200)"
   ]
  },
  {
   "cell_type": "markdown",
   "id": "34029813",
   "metadata": {},
   "source": [
    "Test Case 2:\n",
    "\n",
    "acc3 = BankAccount(\"Alice Johnson\", 500) \n",
    "\n",
    "acc4 = BankAccount(\"Bob Brown\", 1500) \n",
    "\n",
    "acc3.balance == 500\n",
    "\n",
    "acc4.balance == 1500 \n",
    "\n",
    "acc3.deposit(100) \n",
    "\n",
    "acc4.withdraw(200) \n",
    "\n",
    "acc3.transfer(acc4, 300) \n",
    "\n",
    "acc3.balance == 300 \n",
    "\n",
    "acc4.balance == 1600 "
   ]
  },
  {
   "cell_type": "code",
   "execution_count": 29,
   "id": "0781d61f",
   "metadata": {},
   "outputs": [],
   "source": [
    "acc3 = BankAccount(\"Alice Johnson\", 500)\n",
    "\n",
    "acc4 = BankAccount(\"Bob Brown\", 1500)"
   ]
  },
  {
   "cell_type": "code",
   "execution_count": 32,
   "id": "7c892ec4",
   "metadata": {},
   "outputs": [
    {
     "name": "stdout",
     "output_type": "stream",
     "text": [
      "500\n",
      "1500\n"
     ]
    }
   ],
   "source": [
    "print(acc3.balance)\n",
    "\n",
    "print(acc4.balance)"
   ]
  },
  {
   "cell_type": "code",
   "execution_count": 33,
   "id": "6221da4e",
   "metadata": {},
   "outputs": [
    {
     "name": "stdout",
     "output_type": "stream",
     "text": [
      "Balance after depositing 100 is 600 \n"
     ]
    }
   ],
   "source": [
    "acc3.deposit(100)"
   ]
  },
  {
   "cell_type": "code",
   "execution_count": 34,
   "id": "c397492d",
   "metadata": {},
   "outputs": [
    {
     "name": "stdout",
     "output_type": "stream",
     "text": [
      "Balance after withdrawing 200 is 1300 \n"
     ]
    }
   ],
   "source": [
    "acc4.withdraw(200)"
   ]
  },
  {
   "cell_type": "code",
   "execution_count": 35,
   "id": "504f3255",
   "metadata": {},
   "outputs": [
    {
     "name": "stdout",
     "output_type": "stream",
     "text": [
      "Balance after withdrawing 300 is 300 \n",
      "Balance after depositing 300 is 1600 \n"
     ]
    }
   ],
   "source": [
    "acc3.transfer(acc4, 300)"
   ]
  },
  {
   "cell_type": "markdown",
   "id": "cea63902",
   "metadata": {},
   "source": [
    "## Complex Number Class\n",
    "**Problem Description**\n",
    "\n",
    "Design a Python class named ComplexNumber to represent complex numbers and implement common methods to work with them. A complex number is a number of the form a+bia + bia+bi, where aaa is the real part and bbb is the imaginary part, and iii is the imaginary unit (i.e., −1\\sqrt{-1}−1​).\n",
    "\n",
    "Specifications\n",
    "\n",
    "**Constructor Method (__init__):** Initialize two attributes, real and imaginary, representing the real and imaginary parts of the complex number.\n",
    "\n",
    "**Addition Method (add):** Implement a method to add another ComplexNumber object to the current one. The result should be a new ComplexNumber object with the sum of the real and imaginary parts.\n",
    "\n",
    "**Subtraction Method (subtract):** Implement a method to subtract another ComplexNumber object from the current one. The result should be a new ComplexNumber object with the difference of the real and imaginary parts.\n",
    "\n",
    "**Multiplication Method (multiply):** Implement a method to multiply the current ComplexNumber object by another ComplexNumber object. The result should be a new ComplexNumber object with the product.\n",
    "\n",
    "**Comparison Method (__eq__):** Implement a method to compare two ComplexNumber objects for equality. Two complex numbers are considered equal if both their real and imaginary parts are equal.\n",
    "\n",
    "**String Representation Method (__str__):** Implement a method to return a string representation of the complex number in the format \"a + bi\".\n",
    "\n",
    "**Comparison with Python's Built-in Complex Class:** After implementing the ComplexNumber class, compare its functionality with Python's built-in complex class. Show examples of addition, subtraction, multiplication, and division using both classes."
   ]
  },
  {
   "cell_type": "code",
   "execution_count": 79,
   "id": "d4f6dca5",
   "metadata": {},
   "outputs": [],
   "source": [
    "class ComplexNumber:\n",
    "    def __init__(self,real_number,imaginary_number):\n",
    "        self.real_number=real_number\n",
    "        self.imaginary_number=imaginary_number\n",
    "    \n",
    "    def add(self,other):\n",
    "        print(f\"{self.real_number + other.real_number} + {self.imaginary_number+other.imaginary_number}i\")\n",
    "        \n",
    "    def sub(self,other):\n",
    "        print(f\"{self.real_number - other.real_number} + {self.imaginary_number - other.imaginary_number}i\")\n",
    "        \n",
    "    #(ac−bd)+(ad+bc)i\n",
    "    def mul(self,other):\n",
    "        print(f\"{(self.real_number*other.real_number)-(self.imaginary_number*other.imaginary_number)}+ {(self.real_number*other.imaginary_number)+(self.imaginary_number*other.real_number)}i\")\n",
    "    \n",
    "    def __eq__(self, other):\n",
    "        if self.real_number == other.real_number and self.imaginary_number == other.imaginary_number:\n",
    "            print(\"complex numbers are equal\")\n",
    "        else:\n",
    "            print(\"complex numbers are not equal\")\n",
    "            \n",
    "    def __str__(self):\n",
    "        return f\"{self.real_number} + {self.imaginary_number}i\"\n"
   ]
  },
  {
   "cell_type": "code",
   "execution_count": 80,
   "id": "4031936c",
   "metadata": {},
   "outputs": [],
   "source": [
    "c1=ComplexNumber(2,3)\n",
    "c2=ComplexNumber(1,4)\n"
   ]
  },
  {
   "cell_type": "code",
   "execution_count": 81,
   "id": "b9f2a797",
   "metadata": {},
   "outputs": [
    {
     "name": "stdout",
     "output_type": "stream",
     "text": [
      "3 + 7i\n",
      "None\n",
      "1 + -1i\n",
      "None\n",
      "-10+ 11i\n",
      "None\n",
      "complex numbers are not equal\n",
      "None\n"
     ]
    }
   ],
   "source": [
    "print(c1.add(c2))\n",
    "print(c1.sub(c2))\n",
    "print(c1.mul(c2))\n",
    "print(c1.__eq__(c2))"
   ]
  },
  {
   "cell_type": "code",
   "execution_count": 82,
   "id": "d19ba175",
   "metadata": {},
   "outputs": [],
   "source": [
    "py_c1 = complex(2, 3)\n",
    "py_c2 = complex(1, 4)\n"
   ]
  },
  {
   "cell_type": "code",
   "execution_count": 83,
   "id": "316da840",
   "metadata": {},
   "outputs": [
    {
     "name": "stdout",
     "output_type": "stream",
     "text": [
      "(3+7j)\n",
      "(1-1j)\n",
      "(-10+11j)\n",
      "False\n"
     ]
    }
   ],
   "source": [
    "print(py_c1+py_c2)\n",
    "print(py_c1-py_c2)\n",
    "print(py_c1*py_c2)\n",
    "print(py_c1==py_c2)"
   ]
  },
  {
   "cell_type": "code",
   "execution_count": 84,
   "id": "80b2266b",
   "metadata": {},
   "outputs": [
    {
     "name": "stdout",
     "output_type": "stream",
     "text": [
      "2 + 3i\n"
     ]
    }
   ],
   "source": [
    "print(c1)"
   ]
  },
  {
   "cell_type": "raw",
   "id": "e74d1947",
   "metadata": {},
   "source": []
  },
  {
   "cell_type": "markdown",
   "id": "d045831e",
   "metadata": {},
   "source": [
    "## Fraction Class\n",
    "Problem Description\n",
    "\n",
    "Problem Title: Implement a Fraction Class\n",
    "\n",
    "Design a Python class named Fraction to represent and manipulate mathematical fractions. The class should support basic arithmetic operations and comparisons.\n",
    "\n",
    "Specifications:\n",
    "\n",
    "Constructor Method (__init__):\n",
    "\n",
    "Initialize the fraction with two attributes: numerator and denominator.\n",
    "\n",
    "Ensure that the denominator is not zero. If zero is provided, raise a ValueError.\n",
    "\n",
    "Methods:\n",
    "\n",
    "add(self, other): Add another Fraction object to the current fraction.\n",
    "\n",
    "subtract(self, other): Subtract another Fraction object from the current fraction.\n",
    "\n",
    "multiply(self, other): Multiply the current fraction by another Fraction object.\n",
    "\n",
    "divide(self, other): Divide the current fraction by another Fraction object. If the other fraction's numerator is zero, raise a ValueError for division by zero.\n",
    "\n",
    "__eq__(self, other): Check if two Fraction objects are equal.\n",
    "\n",
    "__str__(self): Return a string representation of the fraction in the form numerator/denominator.\n",
    "\n",
    "__repr__(self): Return a detailed string representation for debugging.\n",
    "\n",
    "Simplify Fractions:\n",
    "\n",
    "Ensure that fractions are always stored in their simplest form. Use a basic method to find the greatest common divisor (GCD) and simplify the fraction. Avoid recursion and imported functions."
   ]
  },
  {
   "cell_type": "code",
   "execution_count": 85,
   "id": "484ee58c",
   "metadata": {},
   "outputs": [
    {
     "name": "stdout",
     "output_type": "stream",
     "text": [
      "Addition: 11/8\n",
      "Subtraction: 1/8\n",
      "Multiplication: 15/32\n",
      "Division: 6/5\n",
      "Equality: True\n",
      "Simplified: 1/2\n"
     ]
    }
   ],
   "source": [
    "class Fraction:\n",
    "    def __init__(self, numerator, denominator):\n",
    "        if denominator == 0:\n",
    "            raise ValueError(\"Denominator cannot be zero.\")\n",
    "        gcd_value = self.gcd(abs(numerator), abs(denominator))  # Simplify on initialization\n",
    "        self.numerator = numerator // gcd_value\n",
    "        self.denominator = denominator // gcd_value\n",
    "\n",
    "    def gcd(self, a, b):\n",
    "        # Basic method to calculate GCD using iteration\n",
    "        while b:\n",
    "            a, b = b, a % b\n",
    "        return a\n",
    "\n",
    "    def simplify(self):\n",
    "        # Simplify the fraction\n",
    "        gcd_value = self.gcd(abs(self.numerator), abs(self.denominator))\n",
    "        self.numerator //= gcd_value\n",
    "        self.denominator //= gcd_value\n",
    "\n",
    "    def add(self, other):\n",
    "        numerator = self.numerator * other.denominator + other.numerator * self.denominator\n",
    "        denominator = self.denominator * other.denominator\n",
    "        return Fraction(numerator, denominator)\n",
    "\n",
    "    def subtract(self, other):\n",
    "        numerator = self.numerator * other.denominator - other.numerator * self.denominator\n",
    "        denominator = self.denominator * other.denominator\n",
    "        return Fraction(numerator, denominator)\n",
    "\n",
    "    def multiply(self, other):\n",
    "        numerator = self.numerator * other.numerator\n",
    "        denominator = self.denominator * other.denominator\n",
    "        return Fraction(numerator, denominator)\n",
    "\n",
    "    def divide(self, other):\n",
    "        if other.numerator == 0:\n",
    "            raise ValueError(\"Cannot divide by a fraction with numerator zero.\")\n",
    "        numerator = self.numerator * other.denominator\n",
    "        denominator = self.denominator * other.numerator\n",
    "        return Fraction(numerator, denominator)\n",
    "\n",
    "    def __eq__(self, other):\n",
    "        # Check if two fractions are equal\n",
    "        return self.numerator == other.numerator and self.denominator == other.denominator\n",
    "\n",
    "    def __str__(self):\n",
    "        # String representation\n",
    "        return f\"{self.numerator}/{self.denominator}\"\n",
    "\n",
    "    def __repr__(self):\n",
    "        # Detailed representation for debugging\n",
    "        return f\"Fraction(numerator={self.numerator}, denominator={self.denominator})\"\n",
    "\n",
    "# Test Cases\n",
    "f1 = Fraction(3, 4)\n",
    "f2 = Fraction(5, 8)\n",
    "\n",
    "# Arithmetic Operations\n",
    "print(f\"Addition: {f1.add(f2)}\")        # 3/4 + 5/8 = 11/8\n",
    "print(f\"Subtraction: {f1.subtract(f2)}\")  # 3/4 - 5/8 = 1/8\n",
    "print(f\"Multiplication: {f1.multiply(f2)}\") # 3/4 * 5/8 = 15/32\n",
    "print(f\"Division: {f1.divide(f2)}\")      # 3/4 ÷ 5/8 = 6/5\n",
    "\n",
    "# Comparison\n",
    "f3 = Fraction(6, 8)  # Simplified to 3/4\n",
    "print(f\"Equality: {f1 == f3}\")           # True\n",
    "\n",
    "# Simplification Check\n",
    "f4 = Fraction(10, 20)  # Simplified to 1/2\n",
    "print(f\"Simplified: {f4}\")               # 1/2\n"
   ]
  },
  {
   "cell_type": "code",
   "execution_count": null,
   "id": "fdced7b2",
   "metadata": {},
   "outputs": [],
   "source": []
  }
 ],
 "metadata": {
  "kernelspec": {
   "display_name": "Python 3 (ipykernel)",
   "language": "python",
   "name": "python3"
  },
  "language_info": {
   "codemirror_mode": {
    "name": "ipython",
    "version": 3
   },
   "file_extension": ".py",
   "mimetype": "text/x-python",
   "name": "python",
   "nbconvert_exporter": "python",
   "pygments_lexer": "ipython3",
   "version": "3.11.5"
  }
 },
 "nbformat": 4,
 "nbformat_minor": 5
}
