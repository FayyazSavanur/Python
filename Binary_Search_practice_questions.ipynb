{
 "cells": [
  {
   "cell_type": "markdown",
   "id": "3449267b",
   "metadata": {},
   "source": [
    "## Count negative numbers in a sorted matrix\n",
    "You are given an m x n matrix grid where each row and column is sorted in non-increasing order. Your task is to return the number of negative numbers present in the matrix."
   ]
  },
  {
   "cell_type": "code",
   "execution_count": 5,
   "id": "9aaa4a05",
   "metadata": {},
   "outputs": [
    {
     "data": {
      "text/plain": [
       "7"
      ]
     },
     "execution_count": 5,
     "metadata": {},
     "output_type": "execute_result"
    }
   ],
   "source": [
    "grid = [[4, 3, 2, 1], [3, 2, 1, -1], [1, 1, -1, -2], [-1, -1, -2, -3]] \n",
    "\n",
    "def count_neg(grid):\n",
    "    count=0\n",
    "    for i in grid:\n",
    "        for j in i:\n",
    "            if j<0:\n",
    "                count+=1\n",
    "    return count\n",
    "    return -1\n",
    "count_neg(grid)"
   ]
  },
  {
   "cell_type": "markdown",
   "id": "bda95d08",
   "metadata": {},
   "source": [
    "## Find smallest letter greater than target\n",
    "#### Description:\n",
    "You are given a sorted array of characters letters, sorted in non-decreasing order, and a character target. There are at least two different characters in letters. Your task is to return the smallest character in letters that is lexicographically greater than target. If such a character does not exist, return the first character in letters."
   ]
  },
  {
   "cell_type": "code",
   "execution_count": 6,
   "id": "d9174d6e",
   "metadata": {},
   "outputs": [
    {
     "name": "stdout",
     "output_type": "stream",
     "text": [
      "c\n",
      "j\n",
      "c\n"
     ]
    }
   ],
   "source": [
    "def nextGreatestLetter(letters, target):\n",
    "    left, right = 0, len(letters) - 1\n",
    "    while left <= right:\n",
    "        mid = (left + right) // 2\n",
    "        if letters[mid] > target:\n",
    "            right = mid - 1\n",
    "        else:\n",
    "            left = mid + 1\n",
    "    # If no character is greater, wrap around to the first character\n",
    "    return letters[left % len(letters)]\n",
    "\n",
    "# Example usage\n",
    "letters = ['c', 'f', 'j']\n",
    "target = 'a'\n",
    "print(nextGreatestLetter(letters, target))  # Output: 'c'\n",
    "\n",
    "target = 'g'\n",
    "print(nextGreatestLetter(letters, target))  # Output: 'j'\n",
    "\n",
    "target = 'j'\n",
    "print(nextGreatestLetter(letters, target))  # Output: 'c'\n"
   ]
  },
  {
   "cell_type": "markdown",
   "id": "ef8690df",
   "metadata": {},
   "source": [
    "## Find First and Last Position of Element in Sorted Array\n",
    "#### Description:\n",
    "Given an array of integers nums sorted in non-decreasing order, and an integer target, find the starting and ending position of the given target value. If target is not found in the array, return [-1, -1].\n",
    "\n",
    "\n"
   ]
  },
  {
   "cell_type": "code",
   "execution_count": 74,
   "id": "91f216a8",
   "metadata": {},
   "outputs": [
    {
     "name": "stdout",
     "output_type": "stream",
     "text": [
      "[3, 4]\n"
     ]
    }
   ],
   "source": [
    "def searchRange(nums, target):\n",
    "    def findposition(nums,target,isFirst):\n",
    "        start=0\n",
    "        end=len(nums)-1\n",
    "        position=-1\n",
    "        while start<=end:\n",
    "            mid=(start+end)//2\n",
    "            if nums[mid]==target:\n",
    "                position = mid\n",
    "                if isFirst:\n",
    "                    end=mid-1\n",
    "                else:\n",
    "                    start=mid+1\n",
    "            elif nums[mid]>target:\n",
    "                end=mid-1\n",
    "            else:\n",
    "                start=mid+1\n",
    "        return position\n",
    "    first=findposition(nums,target,isFirst=True)\n",
    "    last=findposition(nums,target,isFirst=False)\n",
    "    return[first,last]\n",
    "\n",
    "\n",
    "nums = [5, 7, 7, 8, 8, 10]\n",
    "target = 8\n",
    "print(searchRange(nums, target)) \n",
    "  \n",
    "    "
   ]
  },
  {
   "cell_type": "markdown",
   "id": "197114d4",
   "metadata": {},
   "source": [
    "## Minimum in Rotated Sorted Array\n",
    "Given a sorted array that has been rotated, find the minimum element in the array. The array was originally sorted in ascending order and then rotated at some pivot."
   ]
  },
  {
   "cell_type": "code",
   "execution_count": 18,
   "id": "2e521239",
   "metadata": {},
   "outputs": [],
   "source": [
    "\n",
    "def findMin(num):\n",
    "    start=0\n",
    "    end=len(num)-1\n",
    "    least_point=None\n",
    "    while start<=end:\n",
    "        mid=(start+end)//2\n",
    "        if num[mid]<=num[end]:\n",
    "            end=mid-1\n",
    "            least_point=num[mid]\n",
    "        elif num[mid]>=num[end]:\n",
    "            start=mid+1\n",
    "            least_point=num[end]\n",
    "    if least_point==num[0]:\n",
    "        print(f\"The array was not rotated, and the minimum element is the first element {num[0]}\")\n",
    "    else:\n",
    "        print(f\"The array is rotated, and the minimum element is the first element {least_point}\")\n",
    "    \n",
    "           "
   ]
  },
  {
   "cell_type": "code",
   "execution_count": 19,
   "id": "59ac3da3",
   "metadata": {},
   "outputs": [
    {
     "name": "stdout",
     "output_type": "stream",
     "text": [
      "The array is rotated, and the minimum element is the first element 0\n"
     ]
    }
   ],
   "source": [
    "num=[4, 5, 6, 7, 0, 1,2]\n",
    "findMin(num) "
   ]
  },
  {
   "cell_type": "code",
   "execution_count": 20,
   "id": "b1429180",
   "metadata": {},
   "outputs": [
    {
     "name": "stdout",
     "output_type": "stream",
     "text": [
      "The array was not rotated, and the minimum element is the first element 3\n"
     ]
    }
   ],
   "source": [
    "num=[3,4, 5, 6, 7]\n",
    "findMin(num) "
   ]
  },
  {
   "cell_type": "code",
   "execution_count": 22,
   "id": "5b5c5147",
   "metadata": {},
   "outputs": [
    {
     "name": "stdout",
     "output_type": "stream",
     "text": [
      "The array was not rotated, and the minimum element is the first element 0\n"
     ]
    }
   ],
   "source": [
    "num=[0,0,0]\n",
    "findMin(num)"
   ]
  },
  {
   "cell_type": "markdown",
   "id": "135e2205",
   "metadata": {},
   "source": [
    "## Search in Rotated Sorted Array\n",
    "Given a sorted array that has been rotated, find the index of a given target value. The array was originally sorted in ascending order and then rotated at some pivot."
   ]
  },
  {
   "cell_type": "code",
   "execution_count": 36,
   "id": "59676836",
   "metadata": {},
   "outputs": [],
   "source": [
    "\n",
    "def search(num, target):\n",
    "    start=0\n",
    "    end=len(num)-1\n",
    "    while start<=end:\n",
    "        mid=(start+end)//2\n",
    "        if num[mid]==target:\n",
    "            return mid\n",
    "        elif num[mid]>=num[end] and target<=num[mid]:\n",
    "            start=mid+1\n",
    "        elif num[mid]<=num[end] and target<=num[end]:\n",
    "            end=mid-1\n",
    "    return -1\n",
    "    "
   ]
  },
  {
   "cell_type": "code",
   "execution_count": 37,
   "id": "f51b2baf",
   "metadata": {},
   "outputs": [
    {
     "data": {
      "text/plain": [
       "4"
      ]
     },
     "execution_count": 37,
     "metadata": {},
     "output_type": "execute_result"
    }
   ],
   "source": [
    "nums = [4, 5, 6, 7, 0, 1, 2]\n",
    "target = 0 \n",
    "search(nums,target)"
   ]
  },
  {
   "cell_type": "code",
   "execution_count": null,
   "id": "03dfea65",
   "metadata": {},
   "outputs": [],
   "source": []
  },
  {
   "cell_type": "code",
   "execution_count": null,
   "id": "96ea8c0e",
   "metadata": {},
   "outputs": [],
   "source": []
  },
  {
   "cell_type": "code",
   "execution_count": null,
   "id": "bdfb9677",
   "metadata": {},
   "outputs": [],
   "source": []
  }
 ],
 "metadata": {
  "kernelspec": {
   "display_name": "Python 3 (ipykernel)",
   "language": "python",
   "name": "python3"
  },
  "language_info": {
   "codemirror_mode": {
    "name": "ipython",
    "version": 3
   },
   "file_extension": ".py",
   "mimetype": "text/x-python",
   "name": "python",
   "nbconvert_exporter": "python",
   "pygments_lexer": "ipython3",
   "version": "3.11.5"
  }
 },
 "nbformat": 4,
 "nbformat_minor": 5
}
