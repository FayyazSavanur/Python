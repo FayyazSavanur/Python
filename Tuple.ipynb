{
 "cells": [
  {
   "cell_type": "code",
   "execution_count": 1,
   "id": "02ac47e3",
   "metadata": {},
   "outputs": [
    {
     "data": {
      "text/plain": [
       "tuple"
      ]
     },
     "execution_count": 1,
     "metadata": {},
     "output_type": "execute_result"
    }
   ],
   "source": [
    "t1=()\n",
    "type(t1)"
   ]
  },
  {
   "cell_type": "code",
   "execution_count": 4,
   "id": "ea235e84",
   "metadata": {},
   "outputs": [
    {
     "name": "stdout",
     "output_type": "stream",
     "text": [
      "(1, 2, 3, 4, 5)\n",
      "<class 'tuple'>\n"
     ]
    }
   ],
   "source": [
    "t1=(1,2,3,4,5)\n",
    "print(t1)\n",
    "print(type(t1))"
   ]
  },
  {
   "cell_type": "code",
   "execution_count": 5,
   "id": "91969986",
   "metadata": {},
   "outputs": [
    {
     "data": {
      "text/plain": [
       "(1, 'fayyaz', 1.24, True)"
      ]
     },
     "execution_count": 5,
     "metadata": {},
     "output_type": "execute_result"
    }
   ],
   "source": [
    "mixed_t1=(1,'fayyaz',1.24,True)\n",
    "mixed_t1"
   ]
  },
  {
   "cell_type": "code",
   "execution_count": 6,
   "id": "6a3f44af",
   "metadata": {},
   "outputs": [
    {
     "data": {
      "text/plain": [
       "(1, 2, 3, 4, 5)"
      ]
     },
     "execution_count": 6,
     "metadata": {},
     "output_type": "execute_result"
    }
   ],
   "source": [
    "#Accesing tuple elements\n",
    "t1"
   ]
  },
  {
   "cell_type": "code",
   "execution_count": 7,
   "id": "24781e38",
   "metadata": {},
   "outputs": [
    {
     "data": {
      "text/plain": [
       "1"
      ]
     },
     "execution_count": 7,
     "metadata": {},
     "output_type": "execute_result"
    }
   ],
   "source": [
    "t1[0]"
   ]
  },
  {
   "cell_type": "code",
   "execution_count": 8,
   "id": "7860dd5b",
   "metadata": {},
   "outputs": [
    {
     "data": {
      "text/plain": [
       "5"
      ]
     },
     "execution_count": 8,
     "metadata": {},
     "output_type": "execute_result"
    }
   ],
   "source": [
    "t1[-1]"
   ]
  },
  {
   "cell_type": "code",
   "execution_count": 9,
   "id": "35484568",
   "metadata": {},
   "outputs": [
    {
     "data": {
      "text/plain": [
       "(1, 2, 3, 4, 5)"
      ]
     },
     "execution_count": 9,
     "metadata": {},
     "output_type": "execute_result"
    }
   ],
   "source": [
    "t1[0:]"
   ]
  },
  {
   "cell_type": "code",
   "execution_count": 10,
   "id": "5703f274",
   "metadata": {},
   "outputs": [
    {
     "data": {
      "text/plain": [
       "(5, 4, 3, 2, 1)"
      ]
     },
     "execution_count": 10,
     "metadata": {},
     "output_type": "execute_result"
    }
   ],
   "source": [
    "t1[::-1]"
   ]
  },
  {
   "cell_type": "code",
   "execution_count": 11,
   "id": "ec524f87",
   "metadata": {},
   "outputs": [
    {
     "data": {
      "text/plain": [
       "(1, 2, 3)"
      ]
     },
     "execution_count": 11,
     "metadata": {},
     "output_type": "execute_result"
    }
   ],
   "source": [
    "t1[0:3]"
   ]
  },
  {
   "cell_type": "code",
   "execution_count": 12,
   "id": "aec5f448",
   "metadata": {},
   "outputs": [
    {
     "data": {
      "text/plain": [
       "(1, 2, 3, 4, 5, 1, 'fayyaz', 1.24, True)"
      ]
     },
     "execution_count": 12,
     "metadata": {},
     "output_type": "execute_result"
    }
   ],
   "source": [
    "## tuple operations\n",
    "t1 + mixed_t1"
   ]
  },
  {
   "cell_type": "code",
   "execution_count": 13,
   "id": "7382335b",
   "metadata": {},
   "outputs": [
    {
     "data": {
      "text/plain": [
       "(1, 2, 3, 4, 5, 1, 2, 3, 4, 5, 1, 2, 3, 4, 5)"
      ]
     },
     "execution_count": 13,
     "metadata": {},
     "output_type": "execute_result"
    }
   ],
   "source": [
    "t1*3"
   ]
  },
  {
   "cell_type": "code",
   "execution_count": 14,
   "id": "544f10a5",
   "metadata": {},
   "outputs": [
    {
     "data": {
      "text/plain": [
       "(1, 'fayyaz', 1.24, True, 1, 'fayyaz', 1.24, True, 1, 'fayyaz', 1.24, True)"
      ]
     },
     "execution_count": 14,
     "metadata": {},
     "output_type": "execute_result"
    }
   ],
   "source": [
    "mixed_t1*3"
   ]
  },
  {
   "cell_type": "code",
   "execution_count": 17,
   "id": "ecdef179",
   "metadata": {},
   "outputs": [],
   "source": [
    "#tuples are immutable \n",
    "#cannot change the tuple items once assigned"
   ]
  },
  {
   "cell_type": "code",
   "execution_count": 22,
   "id": "b15735f5",
   "metadata": {},
   "outputs": [
    {
     "name": "stdout",
     "output_type": "stream",
     "text": [
      "1\n",
      "0\n"
     ]
    }
   ],
   "source": [
    "## Tuple Methods\n",
    "print(t1.count(1))\n",
    "print(t1.index(1))"
   ]
  },
  {
   "cell_type": "code",
   "execution_count": 23,
   "id": "7f25379f",
   "metadata": {},
   "outputs": [
    {
     "data": {
      "text/plain": [
       "(1, 'fayyaz', 3.142)"
      ]
     },
     "execution_count": 23,
     "metadata": {},
     "output_type": "execute_result"
    }
   ],
   "source": [
    "# Packing and Unpacking tuple\n",
    "#packing\n",
    "pt=1,'fayyaz',3.142\n",
    "pt"
   ]
  },
  {
   "cell_type": "code",
   "execution_count": 26,
   "id": "8f3454fc",
   "metadata": {},
   "outputs": [
    {
     "name": "stdout",
     "output_type": "stream",
     "text": [
      "1\n",
      "fayyaz\n",
      "3.142\n"
     ]
    }
   ],
   "source": [
    "#unpacking\n",
    "a,b,c = pt\n",
    "print(a)\n",
    "print(b)\n",
    "print(c)"
   ]
  },
  {
   "cell_type": "code",
   "execution_count": 27,
   "id": "fc17cb87",
   "metadata": {},
   "outputs": [
    {
     "name": "stdout",
     "output_type": "stream",
     "text": [
      "1\n",
      "[2, 3, 4, 5]\n",
      "6\n"
     ]
    }
   ],
   "source": [
    "#unpacking with *\n",
    "t2=(1,2,3,4,5,6)\n",
    "a,*b,c=t2\n",
    "print(a)\n",
    "print(b)\n",
    "print(c)"
   ]
  },
  {
   "cell_type": "code",
   "execution_count": 28,
   "id": "c5ea9938",
   "metadata": {},
   "outputs": [
    {
     "data": {
      "text/plain": [
       "('eat', 'code', 'sleep', 'repeat')"
      ]
     },
     "execution_count": 28,
     "metadata": {},
     "output_type": "execute_result"
    }
   ],
   "source": [
    "#nested tuple\n",
    "nt=((1,2,3),('eat','code','sleep','repeat'))\n",
    "nt[1]"
   ]
  },
  {
   "cell_type": "code",
   "execution_count": 29,
   "id": "e7fd479d",
   "metadata": {},
   "outputs": [
    {
     "name": "stdout",
     "output_type": "stream",
     "text": [
      "1\n",
      "2\n",
      "3\n",
      "eat\n",
      "code\n",
      "sleep\n",
      "repeat\n"
     ]
    }
   ],
   "source": [
    "#iterating \n",
    "for i in nt:\n",
    "    for j in i:\n",
    "        print(j)"
   ]
  },
  {
   "cell_type": "code",
   "execution_count": null,
   "id": "c5ecc722",
   "metadata": {},
   "outputs": [],
   "source": []
  }
 ],
 "metadata": {
  "kernelspec": {
   "display_name": "Python 3 (ipykernel)",
   "language": "python",
   "name": "python3"
  },
  "language_info": {
   "codemirror_mode": {
    "name": "ipython",
    "version": 3
   },
   "file_extension": ".py",
   "mimetype": "text/x-python",
   "name": "python",
   "nbconvert_exporter": "python",
   "pygments_lexer": "ipython3",
   "version": "3.11.5"
  }
 },
 "nbformat": 4,
 "nbformat_minor": 5
}
