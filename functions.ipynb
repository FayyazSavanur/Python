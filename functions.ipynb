{
 "cells": [
  {
   "cell_type": "code",
   "execution_count": 1,
   "id": "1569f1d5",
   "metadata": {},
   "outputs": [],
   "source": [
    "def even_number(num):\n",
    "    \"\"\"to find even number\"\"\"\n",
    "    if num%2==0:\n",
    "        return True\n",
    "    else:\n",
    "        return False"
   ]
  },
  {
   "cell_type": "code",
   "execution_count": 4,
   "id": "b1bf53aa",
   "metadata": {},
   "outputs": [
    {
     "data": {
      "text/plain": [
       "False"
      ]
     },
     "execution_count": 4,
     "metadata": {},
     "output_type": "execute_result"
    }
   ],
   "source": [
    "even_number(5)"
   ]
  },
  {
   "cell_type": "code",
   "execution_count": 5,
   "id": "484055fd",
   "metadata": {},
   "outputs": [],
   "source": [
    "def even_number():\n",
    "    \"\"\"to find even number\"\"\"\n",
    "    num = int(input(\"Enter the number:\"))\n",
    "    if num%2==0:\n",
    "        return True\n",
    "    else:\n",
    "        return False"
   ]
  },
  {
   "cell_type": "code",
   "execution_count": 7,
   "id": "c11fa2f6",
   "metadata": {},
   "outputs": [
    {
     "name": "stdout",
     "output_type": "stream",
     "text": [
      "Enter the number:5\n"
     ]
    },
    {
     "data": {
      "text/plain": [
       "False"
      ]
     },
     "execution_count": 7,
     "metadata": {},
     "output_type": "execute_result"
    }
   ],
   "source": [
    "even_number()"
   ]
  },
  {
   "cell_type": "code",
   "execution_count": 10,
   "id": "0c7f56c5",
   "metadata": {},
   "outputs": [],
   "source": [
    "def add(a,b):\n",
    "    print(f\"sum of {a} + {b} =\", a+b)"
   ]
  },
  {
   "cell_type": "code",
   "execution_count": 11,
   "id": "708962c8",
   "metadata": {},
   "outputs": [
    {
     "name": "stdout",
     "output_type": "stream",
     "text": [
      "sum of 2 + 3 = 5\n"
     ]
    }
   ],
   "source": [
    "add(2,3)"
   ]
  },
  {
   "cell_type": "code",
   "execution_count": 13,
   "id": "4598d666",
   "metadata": {},
   "outputs": [],
   "source": [
    "def greet(name):\n",
    "    print(f\"Hello {name}, how are you\")"
   ]
  },
  {
   "cell_type": "code",
   "execution_count": 16,
   "id": "de674958",
   "metadata": {},
   "outputs": [
    {
     "name": "stdout",
     "output_type": "stream",
     "text": [
      "Hello salena, how are you\n"
     ]
    }
   ],
   "source": [
    "greet('salena')"
   ]
  },
  {
   "cell_type": "code",
   "execution_count": 22,
   "id": "aeadc663",
   "metadata": {},
   "outputs": [
    {
     "name": "stdout",
     "output_type": "stream",
     "text": [
      "1\n",
      "2\n",
      "3\n",
      "5\n",
      "7\n",
      "9\n",
      "gggg\n"
     ]
    }
   ],
   "source": [
    "#variable length arguments\n",
    "#positional and keywords argument\n",
    "\n",
    "def print_numbers(*args):\n",
    "    for num in args:\n",
    "        print(num)\n",
    "print_numbers(1,2,3,5,7,9,'gggg')"
   ]
  },
  {
   "cell_type": "code",
   "execution_count": 23,
   "id": "0f43b85e",
   "metadata": {},
   "outputs": [
    {
     "name": "stdout",
     "output_type": "stream",
     "text": [
      "name:fayyaz\n",
      "age:25\n"
     ]
    }
   ],
   "source": [
    "def print_details(**kwargs):\n",
    "    for key,value in kwargs.items():\n",
    "        print(f\"{key}:{value}\")\n",
    "        \n",
    "print_details(name='fayyaz',age='25')\n",
    "        "
   ]
  },
  {
   "cell_type": "markdown",
   "id": "9aa5de4e",
   "metadata": {},
   "source": [
    "## Temperature conversion"
   ]
  },
  {
   "cell_type": "code",
   "execution_count": 27,
   "id": "41add88f",
   "metadata": {},
   "outputs": [],
   "source": [
    "def temp_converter(temp,unit):\n",
    "    \"\"\"this function converst tempetarue btw celcius and fehranite\"\"\"\n",
    "    if unit=='c' or unit == 'C':\n",
    "        return (temp*9/5)+32\n",
    "    elif unit=='f' or unit=='F':\n",
    "        return (temp-32)*5/9\n",
    "    else:\n",
    "        return None"
   ]
  },
  {
   "cell_type": "code",
   "execution_count": 25,
   "id": "19c00d45",
   "metadata": {},
   "outputs": [
    {
     "data": {
      "text/plain": [
       "80.6"
      ]
     },
     "execution_count": 25,
     "metadata": {},
     "output_type": "execute_result"
    }
   ],
   "source": [
    "temp_converter(27,'c')"
   ]
  },
  {
   "cell_type": "markdown",
   "id": "38e12a1f",
   "metadata": {},
   "source": [
    "## Password strength checker"
   ]
  },
  {
   "cell_type": "code",
   "execution_count": 29,
   "id": "83b2d64b",
   "metadata": {},
   "outputs": [
    {
     "name": "stdout",
     "output_type": "stream",
     "text": [
      "Strong Password \n"
     ]
    }
   ],
   "source": [
    "def pass_check(password):\n",
    "    if len(password)<8:\n",
    "        print('weak password')\n",
    "    elif not any(char.isdigit() for char in password):\n",
    "        print(\"Weak passsword\")\n",
    "    elif not any(char.islower() for char in password):\n",
    "        print(\"Weak passsword\")\n",
    "    elif not any(char.isupper() for char in password):\n",
    "        print(\"Weak passsword\")\n",
    "    elif not any(char in '!@#$%^&*' for char in password):\n",
    "        print(\"Weak passsword\")  \n",
    "    else:\n",
    "        print(\"Strong Password \")\n",
    "\n",
    "pass_check('@Rehana786')"
   ]
  },
  {
   "cell_type": "markdown",
   "id": "a2b7f471",
   "metadata": {},
   "source": [
    "## Factorial"
   ]
  },
  {
   "cell_type": "code",
   "execution_count": 31,
   "id": "212603be",
   "metadata": {},
   "outputs": [
    {
     "data": {
      "text/plain": [
       "6"
      ]
     },
     "execution_count": 31,
     "metadata": {},
     "output_type": "execute_result"
    }
   ],
   "source": [
    "def factorial(n):\n",
    "    if n==0:\n",
    "        return 1\n",
    "    else:\n",
    "        return n * factorial(n-1)\n",
    "factorial(3)"
   ]
  },
  {
   "cell_type": "markdown",
   "id": "2c509d25",
   "metadata": {},
   "source": [
    "## ReAD file and count frequency of each word"
   ]
  },
  {
   "cell_type": "code",
   "execution_count": 33,
   "id": "5d8cfe13",
   "metadata": {},
   "outputs": [
    {
     "data": {
      "text/plain": [
       "{'hello': 1, 'magam': 1, 'i': 1, 'am': 1, 'a': 1, 'pyhton': 1, 'programmer': 1}"
      ]
     },
     "execution_count": 33,
     "metadata": {},
     "output_type": "execute_result"
    }
   ],
   "source": [
    "def count_word_frequency(file_path):\n",
    "    word_count={}\n",
    "    with open(file_path,'r') as file:\n",
    "        for line in file:\n",
    "            words = line.split()\n",
    "            for word in words:\n",
    "                word=word.lower().strip('.,!@#$Z%^&*')\n",
    "                word_count[word]=word_count.get(word,0)+1\n",
    "    return word_count\n",
    "\n",
    "count_word_frequency('C:/Users/DeLL/Documents/GitHub/Python/untitled.txt')"
   ]
  },
  {
   "cell_type": "code",
   "execution_count": null,
   "id": "e1cee447",
   "metadata": {},
   "outputs": [],
   "source": []
  },
  {
   "cell_type": "code",
   "execution_count": null,
   "id": "02ab66d7",
   "metadata": {},
   "outputs": [],
   "source": []
  },
  {
   "cell_type": "code",
   "execution_count": null,
   "id": "60391982",
   "metadata": {},
   "outputs": [],
   "source": []
  },
  {
   "cell_type": "code",
   "execution_count": null,
   "id": "3b2bb601",
   "metadata": {},
   "outputs": [],
   "source": []
  },
  {
   "cell_type": "code",
   "execution_count": null,
   "id": "85718aff",
   "metadata": {},
   "outputs": [],
   "source": []
  },
  {
   "cell_type": "code",
   "execution_count": null,
   "id": "83e0b6f5",
   "metadata": {},
   "outputs": [],
   "source": []
  },
  {
   "cell_type": "code",
   "execution_count": null,
   "id": "02bbb542",
   "metadata": {},
   "outputs": [],
   "source": []
  }
 ],
 "metadata": {
  "kernelspec": {
   "display_name": "Python 3 (ipykernel)",
   "language": "python",
   "name": "python3"
  },
  "language_info": {
   "codemirror_mode": {
    "name": "ipython",
    "version": 3
   },
   "file_extension": ".py",
   "mimetype": "text/x-python",
   "name": "python",
   "nbconvert_exporter": "python",
   "pygments_lexer": "ipython3",
   "version": "3.11.5"
  }
 },
 "nbformat": 4,
 "nbformat_minor": 5
}
