{
 "cells": [
  {
   "cell_type": "markdown",
   "id": "f84de8d2",
   "metadata": {},
   "source": [
    "## Array\n",
    "\n",
    "* an array is a collection of elements stored in a continous memory location\n",
    "* all elements in an array are of same data type\n",
    "* array allow for efficient access and maniplation of data\n",
    "* array s of fixed size--specify the size of array when created\n",
    "* homogenous --- specify the type of array(int or float or string etc)"
   ]
  },
  {
   "cell_type": "code",
   "execution_count": 10,
   "id": "b0f142f1",
   "metadata": {},
   "outputs": [
    {
     "name": "stdout",
     "output_type": "stream",
     "text": [
      "array('i', [1, 2, 3, 4, 5])\n",
      "array('i', [100, 2, 3, 4, 5])\n"
     ]
    }
   ],
   "source": [
    "import array\n",
    "arr = array.array('i',[1,2,3,4,5])\n",
    "print(arr)\n",
    "arr[0]\n",
    "arr[0]=100\n",
    "print(arr)"
   ]
  },
  {
   "cell_type": "markdown",
   "id": "766968c5",
   "metadata": {},
   "source": [
    "## Searching and sorting\n",
    "## linear search"
   ]
  },
  {
   "cell_type": "code",
   "execution_count": 13,
   "id": "89cc1376",
   "metadata": {},
   "outputs": [
    {
     "data": {
      "text/plain": [
       "1"
      ]
     },
     "execution_count": 13,
     "metadata": {},
     "output_type": "execute_result"
    }
   ],
   "source": [
    "def linear_search(arr,target):\n",
    "    for i in range(len(arr)):\n",
    "        if arr[i]==target:\n",
    "            return 1\n",
    "    else:\n",
    "        return -1\n",
    "arr1=[1,2,40,5]\n",
    "linear_search(arr1,40)"
   ]
  },
  {
   "cell_type": "markdown",
   "id": "c6aa4ac3",
   "metadata": {},
   "source": [
    "## Binary Search\n",
    "* arrays are always sorted\n"
   ]
  },
  {
   "cell_type": "code",
   "execution_count": 23,
   "id": "9accb8aa",
   "metadata": {},
   "outputs": [
    {
     "data": {
      "text/plain": [
       "6"
      ]
     },
     "execution_count": 23,
     "metadata": {},
     "output_type": "execute_result"
    }
   ],
   "source": [
    "def binary_search(arr,target):\n",
    "    n=len(arr)\n",
    "    start = 0\n",
    "    end = n-1\n",
    "    while start<=end:\n",
    "        mid=(start+end)//2\n",
    "        if arr[mid]==target:\n",
    "            return mid\n",
    "        elif (arr[mid]>target):\n",
    "            end=mid-1\n",
    "        elif(arr[mid]<target):\n",
    "            start=mid+1\n",
    "    return -1\n",
    "arr1=[1,2,4,5,6,7,8,9]\n",
    "binary_search(arr1,8)"
   ]
  },
  {
   "cell_type": "markdown",
   "id": "63991367",
   "metadata": {},
   "source": [
    "## Bubble sort algorithm"
   ]
  },
  {
   "cell_type": "code",
   "execution_count": 41,
   "id": "e61ffc65",
   "metadata": {},
   "outputs": [],
   "source": [
    "def bubble_sort(arr):\n",
    "    n=len(arr)\n",
    "    \n",
    "    for passes in range(n):\n",
    "        for j in range(0,n-1 - passes):\n",
    "            if(arr[j]>arr[j+1]):\n",
    "                arr[j],arr[j+1]=arr[j+1],arr[j]\n",
    "    return arr\n",
    "    \n",
    "    "
   ]
  },
  {
   "cell_type": "code",
   "execution_count": 42,
   "id": "8b13bd90",
   "metadata": {},
   "outputs": [
    {
     "data": {
      "text/plain": [
       "[11, 12, 22, 25, 34, 90]"
      ]
     },
     "execution_count": 42,
     "metadata": {},
     "output_type": "execute_result"
    }
   ],
   "source": [
    "unsorted_list=[12,25,11,34,90,22]\n",
    "sorted_list=bubble_sort(unsorted_list)\n",
    "sorted_list"
   ]
  },
  {
   "cell_type": "markdown",
   "id": "f9950407",
   "metadata": {},
   "source": [
    "## Selection sort"
   ]
  },
  {
   "cell_type": "code",
   "execution_count": 113,
   "id": "bb1891b6",
   "metadata": {},
   "outputs": [
    {
     "data": {
      "text/plain": [
       "[5, 11, 12, 22, 25, 34, 90, 100]"
      ]
     },
     "execution_count": 113,
     "metadata": {},
     "output_type": "execute_result"
    }
   ],
   "source": [
    "def selection_sort(arr):\n",
    "    n=len(arr)\n",
    "    for i in range(0,n-1):\n",
    "        for j in range(i+1,n):\n",
    "            if arr[i]>arr[j]:\n",
    "                arr[i],arr[j]=arr[j],arr[i]\n",
    "    return arr        \n",
    "arr=[12,25,11,34,90,22,100,5]\n",
    "selection_sort(arr)"
   ]
  },
  {
   "cell_type": "markdown",
   "id": "a0b75ad1",
   "metadata": {},
   "source": [
    "## Insertion sort"
   ]
  },
  {
   "cell_type": "code",
   "execution_count": 117,
   "id": "3b073518",
   "metadata": {},
   "outputs": [
    {
     "data": {
      "text/plain": [
       "[5, 11, 12, 22, 25, 34, 90, 100]"
      ]
     },
     "execution_count": 117,
     "metadata": {},
     "output_type": "execute_result"
    }
   ],
   "source": [
    "def insertion_sort(arr):\n",
    "    n=len(arr)\n",
    "    \n",
    "    for i in range(1,n):\n",
    "        x=arr[i]\n",
    "        x_position=i-1\n",
    "        \n",
    "        while x_position>=0:\n",
    "            if (arr[x_position]<x):\n",
    "                break\n",
    "            else:\n",
    "                arr[x_position+1]=arr[x_position]\n",
    "                x_position-=1\n",
    "            arr[x_position+1]=x\n",
    "    return arr\n",
    "    \n",
    "    \n",
    "    \n",
    "    \n",
    "arr=[12,25,11,34,90,22,100,5]\n",
    "insertion_sort(arr)"
   ]
  },
  {
   "cell_type": "code",
   "execution_count": null,
   "id": "7500867c",
   "metadata": {},
   "outputs": [],
   "source": []
  },
  {
   "cell_type": "code",
   "execution_count": null,
   "id": "15806be7",
   "metadata": {},
   "outputs": [],
   "source": []
  },
  {
   "cell_type": "code",
   "execution_count": null,
   "id": "585ab1cd",
   "metadata": {},
   "outputs": [],
   "source": []
  },
  {
   "cell_type": "code",
   "execution_count": null,
   "id": "ead31dbc",
   "metadata": {},
   "outputs": [],
   "source": []
  },
  {
   "cell_type": "code",
   "execution_count": null,
   "id": "e708bb9d",
   "metadata": {},
   "outputs": [],
   "source": []
  },
  {
   "cell_type": "code",
   "execution_count": null,
   "id": "824307c9",
   "metadata": {},
   "outputs": [],
   "source": []
  }
 ],
 "metadata": {
  "kernelspec": {
   "display_name": "Python 3 (ipykernel)",
   "language": "python",
   "name": "python3"
  },
  "language_info": {
   "codemirror_mode": {
    "name": "ipython",
    "version": 3
   },
   "file_extension": ".py",
   "mimetype": "text/x-python",
   "name": "python",
   "nbconvert_exporter": "python",
   "pygments_lexer": "ipython3",
   "version": "3.11.5"
  }
 },
 "nbformat": 4,
 "nbformat_minor": 5
}
