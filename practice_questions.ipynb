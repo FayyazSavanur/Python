{
 "cells": [
  {
   "cell_type": "markdown",
   "id": "3c25655f",
   "metadata": {},
   "source": [
    "## Square of side 'N'\n",
    "Problem Description: You are given an integer n. Your task is to return a square pattern of size n x n made up of the character '*', represented as a list of strings."
   ]
  },
  {
   "cell_type": "code",
   "execution_count": 8,
   "id": "64a80875",
   "metadata": {},
   "outputs": [
    {
     "name": "stdout",
     "output_type": "stream",
     "text": [
      "['* * * * ']\n",
      "['* * * * ']\n",
      "['* * * * ']\n",
      "['* * * * ']\n"
     ]
    }
   ],
   "source": [
    "def generate_square(n):\n",
    "    for i in range(n):\n",
    "        print(['* '*n])\n",
    "generate_square(4)"
   ]
  },
  {
   "cell_type": "markdown",
   "id": "95b0e5bc",
   "metadata": {},
   "source": [
    "## Hollow Square of side 'N'\n",
    "#### Problem Description:\n",
    "\n",
    "You are given an integer n. Your task is to return a hollow square pattern of size n x n made up of the character '*', represented as a list of strings. The hollow square has '*' on the border, and spaces ' ' in the middle (except for side lengths of 1 and 2)."
   ]
  },
  {
   "cell_type": "code",
   "execution_count": 9,
   "id": "3f3b6c5c",
   "metadata": {},
   "outputs": [
    {
     "data": {
      "text/plain": [
       "['****', '*  *', '*  *', '****']"
      ]
     },
     "execution_count": 9,
     "metadata": {},
     "output_type": "execute_result"
    }
   ],
   "source": [
    "def hollow_square(n):\n",
    "    if n==1:\n",
    "        return ['*']\n",
    "    elif n==2:\n",
    "        return ['**','**']\n",
    "    else:\n",
    "        square=[]\n",
    "        for i in range(n):\n",
    "            if i==0 or i==n-1:\n",
    "                square.append('*'*n)\n",
    "            else:\n",
    "                square.append('*'+' '*(n-2)+'*')\n",
    "        return square\n",
    "hollow_square(4)"
   ]
  },
  {
   "cell_type": "markdown",
   "id": "c6482f9d",
   "metadata": {},
   "source": [
    "## Rectangle Pattern\n",
    "#### Problem Description:\n",
    "\n",
    "You are given two integers, n and m. Your task is to return a rectangle pattern of '*', where n represents the number of rows (length) and m represents the number of columns (breadth)."
   ]
  },
  {
   "cell_type": "code",
   "execution_count": 13,
   "id": "9f8ab214",
   "metadata": {},
   "outputs": [
    {
     "name": "stdout",
     "output_type": "stream",
     "text": [
      "* * * \n",
      "* * * \n"
     ]
    }
   ],
   "source": [
    "def rect_pat(n,m):\n",
    "    for i in range(n):\n",
    "        print('* '*m)\n",
    "rect_pat(2,3)"
   ]
  },
  {
   "cell_type": "markdown",
   "id": "7aa2a644",
   "metadata": {},
   "source": [
    "## Right Angled Triangle\n",
    "#### Problem Description:\n",
    "\n",
    "You are given an integer n. Your task is to return a right-angled triangle pattern of '*' where each side has n characters, represented as a list of strings. The triangle has '*' characters, starting with 1 star in the first row, 2 stars in the second row, and so on until the last row has n stars."
   ]
  },
  {
   "cell_type": "code",
   "execution_count": 34,
   "id": "31728532",
   "metadata": {},
   "outputs": [
    {
     "name": "stdout",
     "output_type": "stream",
     "text": [
      "* \n",
      "* * \n",
      "* * * \n",
      "* * * * \n"
     ]
    }
   ],
   "source": [
    "def right_triangle(n):\n",
    "    j=1\n",
    "    for i in range(n):\n",
    "        print('* '*j)\n",
    "        j=j+1\n",
    "right_triangle(4)"
   ]
  },
  {
   "cell_type": "markdown",
   "id": "f7eb98b1",
   "metadata": {},
   "source": [
    "## Inverted Right Angled Triangle\n",
    "#### Problem Description:\n",
    "\n",
    "You are given an integer n. Your task is to return an inverted right-angled triangle pattern of '*' where each side has n characters, represented as a list of strings. The first row should have n stars, the second row n-1 stars, and so on, until the last row has 1 star."
   ]
  },
  {
   "cell_type": "code",
   "execution_count": 42,
   "id": "e005a249",
   "metadata": {},
   "outputs": [
    {
     "name": "stdout",
     "output_type": "stream",
     "text": [
      "* * * * \n",
      "* * * \n",
      "* * \n",
      "* \n"
     ]
    }
   ],
   "source": [
    "def invert_right_triangle(n):\n",
    "    j=n\n",
    "    for i in range(n,0,-1):\n",
    "        print('* '*j)\n",
    "        j=j-1\n",
    "invert_right_triangle(4)"
   ]
  },
  {
   "cell_type": "markdown",
   "id": "b4867fc7",
   "metadata": {},
   "source": [
    "## Pyramid Pattern\n",
    "#### Problem Description:\n",
    "\n",
    "You are given an integer n. Your task is to return a pyramid pattern of '*' where each side has n rows, represented as a list of strings. The pyramid is centered, with 1 star in the first row, 3 stars in the second row, and so on, increasing by 2 stars per row until the base row has 2n - 1 stars."
   ]
  },
  {
   "cell_type": "code",
   "execution_count": 71,
   "id": "0c62561d",
   "metadata": {},
   "outputs": [
    {
     "name": "stdout",
     "output_type": "stream",
     "text": [
      "     *\n",
      "    ***\n",
      "   *****\n",
      "  *******\n",
      " *********\n"
     ]
    }
   ],
   "source": [
    "def pyramid(n):\n",
    "    for i in range(n):\n",
    "        print((n-i)*' '+'*'*(2*i+1))\n",
    "pyramid(5)"
   ]
  },
  {
   "cell_type": "markdown",
   "id": "6e7bf4f4",
   "metadata": {},
   "source": [
    "## Inverted Pyramid Pattern\n",
    "#### Problem Description\n",
    "\n",
    "You are given an integer n. Your task is to return an inverted pyramid pattern of '*', where each side has n rows, represented as a list of strings. The first row has 2n - 1 stars, the second row has 2n - 3 stars, and so on, until the last row has 1 star, with each row centered using spaces.\n",
    "\n"
   ]
  },
  {
   "cell_type": "code",
   "execution_count": 73,
   "id": "cddf7b35",
   "metadata": {},
   "outputs": [
    {
     "name": "stdout",
     "output_type": "stream",
     "text": [
      "***********\n",
      " *********\n",
      "  *******\n",
      "   *****\n",
      "    ***\n",
      "     *\n"
     ]
    }
   ],
   "source": [
    "def pyramid(n):\n",
    "    for i in range(n,-1,-1):\n",
    "        print((n-i)*' '+'*'*(2*i+1))\n",
    "pyramid(5)"
   ]
  },
  {
   "cell_type": "markdown",
   "id": "211a691c",
   "metadata": {},
   "source": [
    "## Right Angled Triangle with Numbers\n",
    "#### Problem Description:\n",
    "\n",
    "You are given an integer n. Your task is to return a right-angled triangle pattern where each row contains repeated digits. The first row contains the number 1 repeated once, the second row contains the number 2 repeated twice, and so on until the nth row contains the number n repeated n times.\n",
    "\n"
   ]
  },
  {
   "cell_type": "code",
   "execution_count": 80,
   "id": "12ed646b",
   "metadata": {},
   "outputs": [
    {
     "name": "stdout",
     "output_type": "stream",
     "text": [
      "1\n",
      "22\n",
      "333\n",
      "4444\n"
     ]
    }
   ],
   "source": [
    "def right_triangle(n):\n",
    "    j=1\n",
    "    for i in range(n):\n",
    "        print(f'{j}'*j)\n",
    "        j=j+1\n",
    "right_triangle(4)"
   ]
  },
  {
   "cell_type": "markdown",
   "id": "e64ac1f2",
   "metadata": {},
   "source": [
    "## Floyds Triangle\n",
    "#### Problem Description:\n",
    "\n",
    "You are given an integer n. Your task is to return the first n rows of Floyd’s Triangle, represented as a list of strings. Floyd's Triangle is a triangular array of natural numbers where the first row contains 1, the second row contains 2 and 3, the third row contains 4, 5, and 6, and so on."
   ]
  },
  {
   "cell_type": "code",
   "execution_count": 94,
   "id": "2eccc914",
   "metadata": {},
   "outputs": [
    {
     "name": "stdout",
     "output_type": "stream",
     "text": [
      "1\n",
      "2 3\n",
      "4 5 6\n",
      "7 8 9 10\n",
      "11 12 13 14 15\n"
     ]
    }
   ],
   "source": [
    "def floyds_triangle(n):\n",
    "    triangle = []\n",
    "    num = 1  # Start from 1\n",
    "    for i in range(1, n + 1):  # i represents the row number\n",
    "        row = ' '.join(str(num + j) for j in range(i))  # Create the row\n",
    "        triangle.append(row)\n",
    "        num += i  # Update the starting number for the next row\n",
    "    return triangle\n",
    "\n",
    "# Example usage\n",
    "n = 5\n",
    "triangle = floyds_triangle(n)\n",
    "for row in triangle:\n",
    "    print(row)\n"
   ]
  },
  {
   "cell_type": "code",
   "execution_count": null,
   "id": "8dfc5be1",
   "metadata": {},
   "outputs": [],
   "source": []
  },
  {
   "cell_type": "code",
   "execution_count": null,
   "id": "85789443",
   "metadata": {},
   "outputs": [],
   "source": []
  },
  {
   "cell_type": "code",
   "execution_count": null,
   "id": "2c43a67b",
   "metadata": {},
   "outputs": [],
   "source": []
  }
 ],
 "metadata": {
  "kernelspec": {
   "display_name": "Python 3 (ipykernel)",
   "language": "python",
   "name": "python3"
  },
  "language_info": {
   "codemirror_mode": {
    "name": "ipython",
    "version": 3
   },
   "file_extension": ".py",
   "mimetype": "text/x-python",
   "name": "python",
   "nbconvert_exporter": "python",
   "pygments_lexer": "ipython3",
   "version": "3.11.5"
  }
 },
 "nbformat": 4,
 "nbformat_minor": 5
}
