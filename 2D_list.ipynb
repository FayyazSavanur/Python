{
 "cells": [
  {
   "cell_type": "markdown",
   "id": "7a8327a9",
   "metadata": {},
   "source": [
    "## Pascal Triangle"
   ]
  },
  {
   "cell_type": "code",
   "execution_count": 68,
   "id": "e57f7ffe",
   "metadata": {},
   "outputs": [],
   "source": [
    "def generate(numRows):\n",
    "    l1=[]\n",
    "    l2=[]\n",
    "    for i in range(1,numRows+1):\n",
    "        l3=[]\n",
    "        if i<=2:\n",
    "            l1.append([1]*i)\n",
    "            print(l1)\n",
    "        elif i>2:\n",
    "            for i in range(len(l1[-1])-1):\n",
    "                l3.append(l1[-1][i]+l1[-1][i+1])\n",
    "            l1.append([1]+l3+[1])\n",
    "            print(l1)"
   ]
  },
  {
   "cell_type": "code",
   "execution_count": 74,
   "id": "29daa817",
   "metadata": {},
   "outputs": [
    {
     "name": "stdout",
     "output_type": "stream",
     "text": [
      "[[1]]\n",
      "[[1], [1, 1]]\n",
      "[[1], [1, 1], [1, 2, 1]]\n",
      "[[1], [1, 1], [1, 2, 1], [1, 3, 3, 1]]\n",
      "[[1], [1, 1], [1, 2, 1], [1, 3, 3, 1], [1, 4, 6, 4, 1]]\n",
      "[[1], [1, 1], [1, 2, 1], [1, 3, 3, 1], [1, 4, 6, 4, 1], [1, 5, 10, 10, 5, 1]]\n"
     ]
    }
   ],
   "source": [
    "generate(6)"
   ]
  },
  {
   "cell_type": "markdown",
   "id": "9091392d",
   "metadata": {},
   "source": [
    "## Rotate image"
   ]
  },
  {
   "cell_type": "code",
   "execution_count": 90,
   "id": "c6c72f23",
   "metadata": {},
   "outputs": [
    {
     "name": "stdout",
     "output_type": "stream",
     "text": [
      "[15, 13, 2, 5]\n",
      "[14, 3, 4, 1]\n",
      "[12, 6, 8, 9]\n",
      "[16, 7, 10, 11]\n"
     ]
    }
   ],
   "source": [
    "def rotate_matrix(matrix):\n",
    "    n = len(matrix)  # Get the size of the square matrix\n",
    "\n",
    "    # Step 1: Transpose the matrix\n",
    "    for i in range(n):\n",
    "        for j in range(i + 1, n):\n",
    "            matrix[i][j], matrix[j][i] = matrix[j][i], matrix[i][j]\n",
    "\n",
    "    # Step 2: Reverse each row\n",
    "    for row in matrix:\n",
    "        row.reverse()\n",
    "\n",
    "    return matrix\n",
    "\n",
    "# Input matrix\n",
    "matrix = [\n",
    "    [5, 1, 9, 11],\n",
    "    [2, 4, 8, 10],\n",
    "    [13, 3, 6, 7],\n",
    "    [15, 14, 12, 16]\n",
    "]\n",
    "\n",
    "# Rotate the matrix\n",
    "result = rotate_matrix(matrix)\n",
    "\n",
    "# Output the rotated matrix\n",
    "for row in result:\n",
    "    print(row)\n"
   ]
  },
  {
   "cell_type": "markdown",
   "id": "2bf4d16b",
   "metadata": {},
   "source": [
    "## Matrix obtained by Rotation or not?\n",
    "You are given two n x n binary matrices mat and target. Your task is to determine whether it is possible to make mat equal to target by rotating mat in 90-degree increments (clockwise). You can rotate mat by 90, 180, or 270 degrees, or leave it unchanged."
   ]
  },
  {
   "cell_type": "code",
   "execution_count": 100,
   "id": "1e2877c3",
   "metadata": {},
   "outputs": [],
   "source": [
    "def rotate_matrix_90(mat):\n",
    "    n = len(mat)\n",
    "    # Transpose the matrix\n",
    "    for i in range(n):\n",
    "        for j in range(i + 1, n):\n",
    "            mat[i][j], mat[j][i] = mat[j][i], mat[i][j]\n",
    "    # Reverse each row\n",
    "    for row in mat:\n",
    "        row.reverse()\n",
    "    return mat\n",
    "\n",
    "def is_obtained_by_rotation(mat, target):\n",
    "    for _ in range(4):  # Check for 0°, 90°, 180°, 270°\n",
    "        if mat == target:\n",
    "            return True\n",
    "        mat = rotate_matrix_90(mat)  # Rotate the matrix by 90°\n",
    "    return False\n"
   ]
  },
  {
   "cell_type": "code",
   "execution_count": 101,
   "id": "0111459d",
   "metadata": {},
   "outputs": [
    {
     "data": {
      "text/plain": [
       "True"
      ]
     },
     "execution_count": 101,
     "metadata": {},
     "output_type": "execute_result"
    }
   ],
   "source": [
    "mat = [[0, 0, 0], [0, 1, 0], [1, 1, 1]]\n",
    "target = [[1, 1, 1], [0, 1, 0], [0, 0, 0]]\n",
    "is_obtained_by_rotation(mat, target)"
   ]
  },
  {
   "cell_type": "markdown",
   "id": "3668f224",
   "metadata": {},
   "source": [
    "## Spiral Matrix\n"
   ]
  },
  {
   "cell_type": "code",
   "execution_count": 102,
   "id": "f2d56226",
   "metadata": {},
   "outputs": [],
   "source": [
    "def spiral_order(matrix):\n",
    "    if not matrix or not matrix[0]:\n",
    "        return []\n",
    "    \n",
    "    result = []\n",
    "    top, bottom = 0, len(matrix) - 1\n",
    "    left, right = 0, len(matrix[0]) - 1\n",
    "    \n",
    "    while top <= bottom and left <= right:\n",
    "        # Traverse from left to right along the top row\n",
    "        for col in range(left, right + 1):\n",
    "            result.append(matrix[top][col])\n",
    "        top += 1  # Move the top boundary down\n",
    "        \n",
    "        # Traverse from top to bottom along the right column\n",
    "        for row in range(top, bottom + 1):\n",
    "            result.append(matrix[row][right])\n",
    "        right -= 1  # Move the right boundary left\n",
    "        \n",
    "        # Traverse from right to left along the bottom row (if applicable)\n",
    "        if top <= bottom:\n",
    "            for col in range(right, left - 1, -1):\n",
    "                result.append(matrix[bottom][col])\n",
    "            bottom -= 1  # Move the bottom boundary up\n",
    "        \n",
    "        # Traverse from bottom to top along the left column (if applicable)\n",
    "        if left <= right:\n",
    "            for row in range(bottom, top - 1, -1):\n",
    "                result.append(matrix[row][left])\n",
    "            left += 1  # Move the left boundary right\n",
    "    \n",
    "    return result\n"
   ]
  },
  {
   "cell_type": "code",
   "execution_count": 105,
   "id": "cbff7398",
   "metadata": {},
   "outputs": [
    {
     "data": {
      "text/plain": [
       "[1, 2, 3, 4, 40, 8, 12, 11, 10, 9, 5, 10, 20, 30, 7, 6]"
      ]
     },
     "execution_count": 105,
     "metadata": {},
     "output_type": "execute_result"
    }
   ],
   "source": [
    "matrix = [[1, 2, 3, 4],\n",
    "          [10,20,30,40],\n",
    "          [5, 6, 7, 8],\n",
    "          [9, 10, 11, 12]]\n",
    "spiral_order(matrix)"
   ]
  },
  {
   "cell_type": "code",
   "execution_count": null,
   "id": "7cd60c9b",
   "metadata": {},
   "outputs": [],
   "source": []
  },
  {
   "cell_type": "markdown",
   "id": "da1e8f5f",
   "metadata": {},
   "source": [
    "## Reshape Matrix"
   ]
  },
  {
   "cell_type": "code",
   "execution_count": 106,
   "id": "fa66bf49",
   "metadata": {},
   "outputs": [
    {
     "name": "stdout",
     "output_type": "stream",
     "text": [
      "[[1, 2, 3, 4]]\n",
      "[[1, 2], [3, 4]]\n"
     ]
    }
   ],
   "source": [
    "def matrix_reshape(mat, r, c):\n",
    "    # Get the dimensions of the original matrix\n",
    "    m, n = len(mat), len(mat[0])\n",
    "\n",
    "    # Check if reshaping is possible\n",
    "    if m * n != r * c:\n",
    "        return mat  # Return original matrix if reshaping isn't possible\n",
    "\n",
    "    # Flatten the original matrix into a single list\n",
    "    flat_list = [num for row in mat for num in row]\n",
    "\n",
    "    # Create the reshaped matrix\n",
    "    reshaped_matrix = []\n",
    "    for i in range(r):\n",
    "        reshaped_matrix.append(flat_list[i * c:(i + 1) * c])\n",
    "\n",
    "    return reshaped_matrix\n",
    "\n",
    "# Example Inputs\n",
    "mat1 = [[1, 2], [3, 4]]\n",
    "r1, c1 = 1, 4\n",
    "print(matrix_reshape(mat1, r1, c1))  # Output: [[1, 2, 3, 4]]\n",
    "\n",
    "mat2 = [[1, 2], [3, 4]]\n",
    "r2, c2 = 2, 4\n",
    "print(matrix_reshape(mat2, r2, c2))  # Output: [[1, 2], [3, 4]]\n"
   ]
  },
  {
   "cell_type": "code",
   "execution_count": null,
   "id": "97e5d109",
   "metadata": {},
   "outputs": [],
   "source": []
  },
  {
   "cell_type": "code",
   "execution_count": null,
   "id": "e53bdeb5",
   "metadata": {},
   "outputs": [],
   "source": []
  },
  {
   "cell_type": "code",
   "execution_count": null,
   "id": "b2146314",
   "metadata": {},
   "outputs": [],
   "source": []
  },
  {
   "cell_type": "code",
   "execution_count": null,
   "id": "28d36d78",
   "metadata": {},
   "outputs": [],
   "source": []
  },
  {
   "cell_type": "code",
   "execution_count": null,
   "id": "e105ded4",
   "metadata": {},
   "outputs": [],
   "source": []
  },
  {
   "cell_type": "code",
   "execution_count": null,
   "id": "de52baec",
   "metadata": {},
   "outputs": [],
   "source": []
  },
  {
   "cell_type": "code",
   "execution_count": null,
   "id": "724a850c",
   "metadata": {},
   "outputs": [],
   "source": []
  },
  {
   "cell_type": "code",
   "execution_count": null,
   "id": "29a078e0",
   "metadata": {},
   "outputs": [],
   "source": []
  }
 ],
 "metadata": {
  "kernelspec": {
   "display_name": "Python 3 (ipykernel)",
   "language": "python",
   "name": "python3"
  },
  "language_info": {
   "codemirror_mode": {
    "name": "ipython",
    "version": 3
   },
   "file_extension": ".py",
   "mimetype": "text/x-python",
   "name": "python",
   "nbconvert_exporter": "python",
   "pygments_lexer": "ipython3",
   "version": "3.11.5"
  }
 },
 "nbformat": 4,
 "nbformat_minor": 5
}
