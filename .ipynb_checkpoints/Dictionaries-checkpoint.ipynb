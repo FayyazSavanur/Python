{
 "cells": [
  {
   "cell_type": "code",
   "execution_count": 1,
   "id": "df1a44ee",
   "metadata": {},
   "outputs": [],
   "source": [
    "###creating dictionaries\n",
    "d1={}"
   ]
  },
  {
   "cell_type": "code",
   "execution_count": 2,
   "id": "19eaaaf8",
   "metadata": {},
   "outputs": [
    {
     "data": {
      "text/plain": [
       "dict"
      ]
     },
     "execution_count": 2,
     "metadata": {},
     "output_type": "execute_result"
    }
   ],
   "source": [
    "type(d1)"
   ]
  },
  {
   "cell_type": "code",
   "execution_count": 3,
   "id": "5b822bc1",
   "metadata": {},
   "outputs": [],
   "source": [
    "student = {\"name\":\"krish\",'age':25,'grade':'A'}"
   ]
  },
  {
   "cell_type": "code",
   "execution_count": 4,
   "id": "3a232e5d",
   "metadata": {},
   "outputs": [
    {
     "data": {
      "text/plain": [
       "{'name': 'krish', 'age': 25, 'grade': 'A'}"
      ]
     },
     "execution_count": 4,
     "metadata": {},
     "output_type": "execute_result"
    }
   ],
   "source": [
    "student"
   ]
  },
  {
   "cell_type": "code",
   "execution_count": 5,
   "id": "0684cea0",
   "metadata": {},
   "outputs": [
    {
     "data": {
      "text/plain": [
       "'krish'"
      ]
     },
     "execution_count": 5,
     "metadata": {},
     "output_type": "execute_result"
    }
   ],
   "source": [
    "##accessing dictionary elements\n",
    "student['name']"
   ]
  },
  {
   "cell_type": "code",
   "execution_count": 8,
   "id": "54e69756",
   "metadata": {},
   "outputs": [
    {
     "data": {
      "text/plain": [
       "dict_keys(['name', 'age', 'grade'])"
      ]
     },
     "execution_count": 8,
     "metadata": {},
     "output_type": "execute_result"
    }
   ],
   "source": [
    "##accessing keys\n",
    "student.keys()"
   ]
  },
  {
   "cell_type": "code",
   "execution_count": 9,
   "id": "e43e8897",
   "metadata": {},
   "outputs": [
    {
     "data": {
      "text/plain": [
       "dict_values(['krish', 25, 'A'])"
      ]
     },
     "execution_count": 9,
     "metadata": {},
     "output_type": "execute_result"
    }
   ],
   "source": [
    "##accesing values\n",
    "student.values()"
   ]
  },
  {
   "cell_type": "code",
   "execution_count": 11,
   "id": "5d4fae69",
   "metadata": {},
   "outputs": [
    {
     "data": {
      "text/plain": [
       "dict_items([('name', 'krish'), ('age', 25), ('grade', 'A')])"
      ]
     },
     "execution_count": 11,
     "metadata": {},
     "output_type": "execute_result"
    }
   ],
   "source": [
    "#accesing all items in dictionary\n",
    "student.items()"
   ]
  },
  {
   "cell_type": "code",
   "execution_count": 12,
   "id": "eca9d382",
   "metadata": {},
   "outputs": [
    {
     "data": {
      "text/plain": [
       "'A'"
      ]
     },
     "execution_count": 12,
     "metadata": {},
     "output_type": "execute_result"
    }
   ],
   "source": [
    "#using get method\n",
    "student.get('grade')"
   ]
  },
  {
   "cell_type": "code",
   "execution_count": 14,
   "id": "61af64b9",
   "metadata": {},
   "outputs": [
    {
     "data": {
      "text/plain": [
       "{'name': 'krish', 'age': 28, 'grade': 'A'}"
      ]
     },
     "execution_count": 14,
     "metadata": {},
     "output_type": "execute_result"
    }
   ],
   "source": [
    "##modifying dictionay elements\n",
    "#dictanry are mutable\n",
    "#update\n",
    "student['age']=28\n",
    "student"
   ]
  },
  {
   "cell_type": "code",
   "execution_count": 15,
   "id": "d5a243af",
   "metadata": {},
   "outputs": [
    {
     "data": {
      "text/plain": [
       "{'name': 'krish', 'age': 28, 'grade': 'A', 'university': 'macquarie'}"
      ]
     },
     "execution_count": 15,
     "metadata": {},
     "output_type": "execute_result"
    }
   ],
   "source": [
    "#add\n",
    "student['university']='macquarie'\n",
    "student"
   ]
  },
  {
   "cell_type": "code",
   "execution_count": 16,
   "id": "f88748dc",
   "metadata": {},
   "outputs": [
    {
     "data": {
      "text/plain": [
       "{'name': 'krish', 'grade': 'A', 'university': 'macquarie'}"
      ]
     },
     "execution_count": 16,
     "metadata": {},
     "output_type": "execute_result"
    }
   ],
   "source": [
    "#delete\n",
    "del student['age']\n",
    "student"
   ]
  },
  {
   "cell_type": "code",
   "execution_count": 17,
   "id": "e6f6682e",
   "metadata": {},
   "outputs": [
    {
     "data": {
      "text/plain": [
       "{'name': 'krish', 'grade': 'A', 'university': 'macquarie'}"
      ]
     },
     "execution_count": 17,
     "metadata": {},
     "output_type": "execute_result"
    }
   ],
   "source": [
    "# dictionary methods\n",
    "# copy\n",
    "student_copy=student\n",
    "student_copy"
   ]
  },
  {
   "cell_type": "code",
   "execution_count": 21,
   "id": "752f4fcd",
   "metadata": {},
   "outputs": [
    {
     "data": {
      "text/plain": [
       "{'name': 'fayyaz', 'grade': 'A', 'university': 'macquarie'}"
      ]
     },
     "execution_count": 21,
     "metadata": {},
     "output_type": "execute_result"
    }
   ],
   "source": [
    "student['name']='fayyaz'\n",
    "student_copy"
   ]
  },
  {
   "cell_type": "code",
   "execution_count": 22,
   "id": "80894e0c",
   "metadata": {},
   "outputs": [
    {
     "data": {
      "text/plain": [
       "{'name': 'fayyaz', 'grade': 'A', 'university': 'macquarie'}"
      ]
     },
     "execution_count": 22,
     "metadata": {},
     "output_type": "execute_result"
    }
   ],
   "source": [
    "student_copy1=student.copy()##shallow copy\n",
    "student_copy1"
   ]
  },
  {
   "cell_type": "code",
   "execution_count": 26,
   "id": "9e5d1ac7",
   "metadata": {},
   "outputs": [
    {
     "name": "stdout",
     "output_type": "stream",
     "text": [
      "{'name': 'david', 'grade': 'A', 'university': 'macquarie'}\n",
      "{'name': 'fayyaz', 'grade': 'A', 'university': 'macquarie'}\n"
     ]
    }
   ],
   "source": [
    "student['name']='david'\n",
    "print(student)\n",
    "print(student_copy1)"
   ]
  },
  {
   "cell_type": "code",
   "execution_count": 29,
   "id": "ca32ee82",
   "metadata": {},
   "outputs": [
    {
     "name": "stdout",
     "output_type": "stream",
     "text": [
      "name\n",
      "grade\n",
      "university\n"
     ]
    }
   ],
   "source": [
    "#iterating over dictionaries\n",
    "for keys in student.keys():\n",
    "    print(keys)"
   ]
  },
  {
   "cell_type": "code",
   "execution_count": 30,
   "id": "8b23970c",
   "metadata": {},
   "outputs": [
    {
     "name": "stdout",
     "output_type": "stream",
     "text": [
      "david\n",
      "A\n",
      "macquarie\n"
     ]
    }
   ],
   "source": [
    "for values in student.values():\n",
    "    print(values)"
   ]
  },
  {
   "cell_type": "code",
   "execution_count": 32,
   "id": "5fcddba7",
   "metadata": {},
   "outputs": [
    {
     "name": "stdout",
     "output_type": "stream",
     "text": [
      "name:david\n",
      "grade:A\n",
      "university:macquarie\n"
     ]
    }
   ],
   "source": [
    "for key,value in student.items():\n",
    "    print(f\"{key}:{value}\")"
   ]
  },
  {
   "cell_type": "code",
   "execution_count": 33,
   "id": "e7fb5cb1",
   "metadata": {},
   "outputs": [],
   "source": [
    "#Nested dictionaries\n",
    "students={\n",
    "    'student1':{'name':'jyothi','age':23},\n",
    "    'student2':{'name':'fayyaz','age':27}\n",
    "}"
   ]
  },
  {
   "cell_type": "code",
   "execution_count": 34,
   "id": "b67ca180",
   "metadata": {},
   "outputs": [
    {
     "data": {
      "text/plain": [
       "{'student1': {'name': 'jyothi', 'age': 23},\n",
       " 'student2': {'name': 'fayyaz', 'age': 27}}"
      ]
     },
     "execution_count": 34,
     "metadata": {},
     "output_type": "execute_result"
    }
   ],
   "source": [
    "students"
   ]
  },
  {
   "cell_type": "code",
   "execution_count": 36,
   "id": "2308f075",
   "metadata": {},
   "outputs": [
    {
     "data": {
      "text/plain": [
       "'jyothi'"
      ]
     },
     "execution_count": 36,
     "metadata": {},
     "output_type": "execute_result"
    }
   ],
   "source": [
    "students['student1']['name']"
   ]
  },
  {
   "cell_type": "code",
   "execution_count": 37,
   "id": "49233850",
   "metadata": {},
   "outputs": [
    {
     "name": "stdout",
     "output_type": "stream",
     "text": [
      "student1:{'name': 'jyothi', 'age': 23}\n",
      "student2:{'name': 'fayyaz', 'age': 27}\n"
     ]
    }
   ],
   "source": [
    "#iterating over nested dictionaries\n",
    "for s_id, info in students.items():\n",
    "    print(f\"{s_id}:{info}\")"
   ]
  },
  {
   "cell_type": "code",
   "execution_count": 38,
   "id": "88996907",
   "metadata": {},
   "outputs": [
    {
     "data": {
      "text/plain": [
       "{0: 0, 1: 1, 2: 4, 3: 9, 4: 16}"
      ]
     },
     "execution_count": 38,
     "metadata": {},
     "output_type": "execute_result"
    }
   ],
   "source": [
    "#dictioanry comprehension\n",
    "squares={x:x**2 for x in range(5)}\n",
    "squares"
   ]
  },
  {
   "cell_type": "code",
   "execution_count": 41,
   "id": "70561985",
   "metadata": {},
   "outputs": [
    {
     "data": {
      "text/plain": [
       "{0: 0, 2: 4, 4: 16, 6: 36, 8: 64}"
      ]
     },
     "execution_count": 41,
     "metadata": {},
     "output_type": "execute_result"
    }
   ],
   "source": [
    "#conditional dictionary comprehension\n",
    "even ={x:x**2 for x in range(10) if x%2==0 }\n",
    "even"
   ]
  },
  {
   "cell_type": "code",
   "execution_count": 47,
   "id": "a9681ebd",
   "metadata": {},
   "outputs": [
    {
     "data": {
      "text/plain": [
       "{1: 4, 2: 2, 3: 3, 4: 3, 5: 1, 6: 1, 7: 1}"
      ]
     },
     "execution_count": 47,
     "metadata": {},
     "output_type": "execute_result"
    }
   ],
   "source": [
    "l=[1,2,3,4,1,2,3,4,1,3,4,1,5,6,7]\n",
    "d1={}\n",
    "count=1\n",
    "for i in l:\n",
    "    if i in d1.keys():\n",
    "        d1[i]=d1[i]+1\n",
    "    else:\n",
    "        d1[i]=count\n",
    "d1"
   ]
  },
  {
   "cell_type": "code",
   "execution_count": 48,
   "id": "0ae27d0f",
   "metadata": {},
   "outputs": [
    {
     "data": {
      "text/plain": [
       "{'student1': {'name': 'jyothi', 'age': 23},\n",
       " 'student2': {'name': 'fayyaz', 'age': 27},\n",
       " 1: 4,\n",
       " 2: 2,\n",
       " 3: 3,\n",
       " 4: 3,\n",
       " 5: 1,\n",
       " 6: 1,\n",
       " 7: 1}"
      ]
     },
     "execution_count": 48,
     "metadata": {},
     "output_type": "execute_result"
    }
   ],
   "source": [
    "#Merge two dictionaries\n",
    "merged_dict={**students,**d1}\n",
    "merged_dict"
   ]
  },
  {
   "cell_type": "code",
   "execution_count": null,
   "id": "f05a4273",
   "metadata": {},
   "outputs": [],
   "source": []
  },
  {
   "cell_type": "code",
   "execution_count": null,
   "id": "1ca3f109",
   "metadata": {},
   "outputs": [],
   "source": []
  },
  {
   "cell_type": "code",
   "execution_count": null,
   "id": "1cd8c6a3",
   "metadata": {},
   "outputs": [],
   "source": []
  },
  {
   "cell_type": "code",
   "execution_count": null,
   "id": "4e63fbd8",
   "metadata": {},
   "outputs": [],
   "source": []
  },
  {
   "cell_type": "code",
   "execution_count": null,
   "id": "7f2db252",
   "metadata": {},
   "outputs": [],
   "source": []
  },
  {
   "cell_type": "code",
   "execution_count": null,
   "id": "d9251d67",
   "metadata": {},
   "outputs": [],
   "source": []
  },
  {
   "cell_type": "code",
   "execution_count": null,
   "id": "4cb2d4a9",
   "metadata": {},
   "outputs": [],
   "source": []
  },
  {
   "cell_type": "code",
   "execution_count": null,
   "id": "84c37140",
   "metadata": {},
   "outputs": [],
   "source": []
  },
  {
   "cell_type": "code",
   "execution_count": null,
   "id": "4ec2cf4b",
   "metadata": {},
   "outputs": [],
   "source": []
  },
  {
   "cell_type": "code",
   "execution_count": null,
   "id": "259f3760",
   "metadata": {},
   "outputs": [],
   "source": []
  },
  {
   "cell_type": "code",
   "execution_count": null,
   "id": "98263410",
   "metadata": {},
   "outputs": [],
   "source": []
  },
  {
   "cell_type": "code",
   "execution_count": null,
   "id": "17b3dc57",
   "metadata": {},
   "outputs": [],
   "source": []
  },
  {
   "cell_type": "code",
   "execution_count": null,
   "id": "574f6c83",
   "metadata": {},
   "outputs": [],
   "source": []
  },
  {
   "cell_type": "code",
   "execution_count": null,
   "id": "885f8d24",
   "metadata": {},
   "outputs": [],
   "source": []
  },
  {
   "cell_type": "code",
   "execution_count": null,
   "id": "53734120",
   "metadata": {},
   "outputs": [],
   "source": []
  },
  {
   "cell_type": "code",
   "execution_count": null,
   "id": "f0657c60",
   "metadata": {},
   "outputs": [],
   "source": []
  }
 ],
 "metadata": {
  "kernelspec": {
   "display_name": "Python 3 (ipykernel)",
   "language": "python",
   "name": "python3"
  },
  "language_info": {
   "codemirror_mode": {
    "name": "ipython",
    "version": 3
   },
   "file_extension": ".py",
   "mimetype": "text/x-python",
   "name": "python",
   "nbconvert_exporter": "python",
   "pygments_lexer": "ipython3",
   "version": "3.11.5"
  }
 },
 "nbformat": 4,
 "nbformat_minor": 5
}
